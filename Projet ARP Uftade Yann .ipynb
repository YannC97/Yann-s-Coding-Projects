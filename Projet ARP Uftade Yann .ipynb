{
 "cells": [
  {
   "cell_type": "markdown",
   "metadata": {},
   "source": [
    "# Projet de Alternative Risk Premia  \n",
    "\n",
    "* Uftade KARA\n",
    "* Yann CERASI\n"
   ]
  },
  {
   "cell_type": "markdown",
   "metadata": {},
   "source": [
    "#### Importer les modules"
   ]
  },
  {
   "cell_type": "code",
   "execution_count": 8,
   "metadata": {},
   "outputs": [],
   "source": [
    "import math\n",
    "import numpy as np, pandas as pd\n",
    "import statsmodels.regression.linear_model as sm "
   ]
  },
  {
   "cell_type": "markdown",
   "metadata": {},
   "source": [
    "####  Variables Global"
   ]
  },
  {
   "cell_type": "code",
   "execution_count": 9,
   "metadata": {},
   "outputs": [],
   "source": [
    "formPerL = 2 # période de formation du portefeuille = 12 mois ou 2 semestres \n",
    "estPerL = 1  # période de placement sur le portefeuille = 6 mois, 1 semestre\n"
   ]
  },
  {
   "cell_type": "markdown",
   "metadata": {},
   "source": [
    "### 4.1 Nettoyer et importer les données"
   ]
  },
  {
   "cell_type": "markdown",
   "metadata": {},
   "source": [
    "##### Veuillez renseigner l'adresse relative du fichier des données dans votre ordinateur\n",
    "#### Importer le dataset"
   ]
  },
  {
   "cell_type": "code",
   "execution_count": 10,
   "metadata": {},
   "outputs": [],
   "source": [
    "#Le filePath  \n",
    "path = \"C:\\Dauphine Exchange Semester\\Risk Premia\"\n",
    "#Import du fichier\n",
    "CRSP = pd.read_csv(path + \"\\CRSP data.csv\", sep=',')"
   ]
  },
  {
   "cell_type": "markdown",
   "metadata": {},
   "source": [
    "**Si on utilise le path absolu, on n'a pas besoin d'inscrire le path relatif**"
   ]
  },
  {
   "cell_type": "code",
   "execution_count": 11,
   "metadata": {},
   "outputs": [],
   "source": [
    "#CRSP = pd.read_csv(\"CRSP data.csv\", sep=',')"
   ]
  },
  {
   "cell_type": "code",
   "execution_count": 12,
   "metadata": {},
   "outputs": [
    {
     "data": {
      "text/html": [
       "<div>\n",
       "<style scoped>\n",
       "    .dataframe tbody tr th:only-of-type {\n",
       "        vertical-align: middle;\n",
       "    }\n",
       "\n",
       "    .dataframe tbody tr th {\n",
       "        vertical-align: top;\n",
       "    }\n",
       "\n",
       "    .dataframe thead th {\n",
       "        text-align: right;\n",
       "    }\n",
       "</style>\n",
       "<table border=\"1\" class=\"dataframe\">\n",
       "  <thead>\n",
       "    <tr style=\"text-align: right;\">\n",
       "      <th></th>\n",
       "      <th>PERMNO</th>\n",
       "      <th>date</th>\n",
       "      <th>PRIMEXCH</th>\n",
       "      <th>RET</th>\n",
       "      <th>semester</th>\n",
       "    </tr>\n",
       "  </thead>\n",
       "  <tbody>\n",
       "    <tr>\n",
       "      <th>0</th>\n",
       "      <td>10001</td>\n",
       "      <td>19851231</td>\n",
       "      <td>NaN</td>\n",
       "      <td>NaN</td>\n",
       "      <td>42</td>\n",
       "    </tr>\n",
       "    <tr>\n",
       "      <th>1</th>\n",
       "      <td>10001</td>\n",
       "      <td>19860131</td>\n",
       "      <td>Q</td>\n",
       "      <td>C</td>\n",
       "      <td>43</td>\n",
       "    </tr>\n",
       "    <tr>\n",
       "      <th>2</th>\n",
       "      <td>10001</td>\n",
       "      <td>19860228</td>\n",
       "      <td>Q</td>\n",
       "      <td>0.020408</td>\n",
       "      <td>43</td>\n",
       "    </tr>\n",
       "    <tr>\n",
       "      <th>3</th>\n",
       "      <td>10001</td>\n",
       "      <td>19860331</td>\n",
       "      <td>Q</td>\n",
       "      <td>0.025200</td>\n",
       "      <td>43</td>\n",
       "    </tr>\n",
       "    <tr>\n",
       "      <th>4</th>\n",
       "      <td>10001</td>\n",
       "      <td>19860430</td>\n",
       "      <td>Q</td>\n",
       "      <td>0.009901</td>\n",
       "      <td>43</td>\n",
       "    </tr>\n",
       "  </tbody>\n",
       "</table>\n",
       "</div>"
      ],
      "text/plain": [
       "   PERMNO      date PRIMEXCH       RET  semester\n",
       "0   10001  19851231      NaN       NaN        42\n",
       "1   10001  19860131        Q         C        43\n",
       "2   10001  19860228        Q  0.020408        43\n",
       "3   10001  19860331        Q  0.025200        43\n",
       "4   10001  19860430        Q  0.009901        43"
      ]
     },
     "execution_count": 12,
     "metadata": {},
     "output_type": "execute_result"
    }
   ],
   "source": [
    "#Le Dataframe\n",
    "CRSP.head()"
   ]
  },
  {
   "cell_type": "markdown",
   "metadata": {},
   "source": [
    "#### explorer le dataframe "
   ]
  },
  {
   "cell_type": "code",
   "execution_count": 13,
   "metadata": {},
   "outputs": [
    {
     "data": {
      "text/html": [
       "<div>\n",
       "<style scoped>\n",
       "    .dataframe tbody tr th:only-of-type {\n",
       "        vertical-align: middle;\n",
       "    }\n",
       "\n",
       "    .dataframe tbody tr th {\n",
       "        vertical-align: top;\n",
       "    }\n",
       "\n",
       "    .dataframe thead th {\n",
       "        text-align: right;\n",
       "    }\n",
       "</style>\n",
       "<table border=\"1\" class=\"dataframe\">\n",
       "  <thead>\n",
       "    <tr style=\"text-align: right;\">\n",
       "      <th></th>\n",
       "      <th>PERMNO</th>\n",
       "      <th>date</th>\n",
       "      <th>semester</th>\n",
       "    </tr>\n",
       "  </thead>\n",
       "  <tbody>\n",
       "    <tr>\n",
       "      <th>count</th>\n",
       "      <td>1.216369e+06</td>\n",
       "      <td>1.216369e+06</td>\n",
       "      <td>1.216369e+06</td>\n",
       "    </tr>\n",
       "    <tr>\n",
       "      <th>mean</th>\n",
       "      <td>4.347618e+04</td>\n",
       "      <td>1.979450e+07</td>\n",
       "      <td>3.026773e+01</td>\n",
       "    </tr>\n",
       "    <tr>\n",
       "      <th>std</th>\n",
       "      <td>2.069398e+04</td>\n",
       "      <td>6.566477e+04</td>\n",
       "      <td>1.314077e+01</td>\n",
       "    </tr>\n",
       "    <tr>\n",
       "      <th>min</th>\n",
       "      <td>1.000100e+04</td>\n",
       "      <td>1.965013e+07</td>\n",
       "      <td>1.000000e+00</td>\n",
       "    </tr>\n",
       "    <tr>\n",
       "      <th>25%</th>\n",
       "      <td>2.580600e+04</td>\n",
       "      <td>1.974123e+07</td>\n",
       "      <td>2.000000e+01</td>\n",
       "    </tr>\n",
       "    <tr>\n",
       "      <th>50%</th>\n",
       "      <td>4.279600e+04</td>\n",
       "      <td>1.980063e+07</td>\n",
       "      <td>3.100000e+01</td>\n",
       "    </tr>\n",
       "    <tr>\n",
       "      <th>75%</th>\n",
       "      <td>5.933700e+04</td>\n",
       "      <td>1.985073e+07</td>\n",
       "      <td>4.200000e+01</td>\n",
       "    </tr>\n",
       "    <tr>\n",
       "      <th>max</th>\n",
       "      <td>9.331600e+04</td>\n",
       "      <td>1.989123e+07</td>\n",
       "      <td>5.000000e+01</td>\n",
       "    </tr>\n",
       "  </tbody>\n",
       "</table>\n",
       "</div>"
      ],
      "text/plain": [
       "             PERMNO          date      semester\n",
       "count  1.216369e+06  1.216369e+06  1.216369e+06\n",
       "mean   4.347618e+04  1.979450e+07  3.026773e+01\n",
       "std    2.069398e+04  6.566477e+04  1.314077e+01\n",
       "min    1.000100e+04  1.965013e+07  1.000000e+00\n",
       "25%    2.580600e+04  1.974123e+07  2.000000e+01\n",
       "50%    4.279600e+04  1.980063e+07  3.100000e+01\n",
       "75%    5.933700e+04  1.985073e+07  4.200000e+01\n",
       "max    9.331600e+04  1.989123e+07  5.000000e+01"
      ]
     },
     "execution_count": 13,
     "metadata": {},
     "output_type": "execute_result"
    }
   ],
   "source": [
    "#Chercher des erreurs dans les variables\n",
    "CRSP[['PERMNO','date','semester']].describe()"
   ]
  },
  {
   "cell_type": "code",
   "execution_count": 14,
   "metadata": {},
   "outputs": [
    {
     "data": {
      "text/html": [
       "<div>\n",
       "<style scoped>\n",
       "    .dataframe tbody tr th:only-of-type {\n",
       "        vertical-align: middle;\n",
       "    }\n",
       "\n",
       "    .dataframe tbody tr th {\n",
       "        vertical-align: top;\n",
       "    }\n",
       "\n",
       "    .dataframe thead th {\n",
       "        text-align: right;\n",
       "    }\n",
       "</style>\n",
       "<table border=\"1\" class=\"dataframe\">\n",
       "  <thead>\n",
       "    <tr style=\"text-align: right;\">\n",
       "      <th></th>\n",
       "      <th>PRIMEXCH</th>\n",
       "      <th>RET</th>\n",
       "    </tr>\n",
       "  </thead>\n",
       "  <tbody>\n",
       "    <tr>\n",
       "      <th>count</th>\n",
       "      <td>1207297</td>\n",
       "      <td>1187466</td>\n",
       "    </tr>\n",
       "    <tr>\n",
       "      <th>unique</th>\n",
       "      <td>4</td>\n",
       "      <td>124065</td>\n",
       "    </tr>\n",
       "    <tr>\n",
       "      <th>top</th>\n",
       "      <td>Q</td>\n",
       "      <td>0.000000</td>\n",
       "    </tr>\n",
       "    <tr>\n",
       "      <th>freq</th>\n",
       "      <td>573225</td>\n",
       "      <td>73992</td>\n",
       "    </tr>\n",
       "  </tbody>\n",
       "</table>\n",
       "</div>"
      ],
      "text/plain": [
       "       PRIMEXCH       RET\n",
       "count   1207297   1187466\n",
       "unique        4    124065\n",
       "top           Q  0.000000\n",
       "freq     573225     73992"
      ]
     },
     "execution_count": 14,
     "metadata": {},
     "output_type": "execute_result"
    }
   ],
   "source": [
    "CRSP[['PRIMEXCH','RET']].describe()"
   ]
  },
  {
   "cell_type": "code",
   "execution_count": 15,
   "metadata": {},
   "outputs": [
    {
     "data": {
      "text/plain": [
       "array([nan, 'Q', 'N', 'X', 'A'], dtype=object)"
      ]
     },
     "execution_count": 15,
     "metadata": {},
     "output_type": "execute_result"
    }
   ],
   "source": [
    "CRSP.PRIMEXCH.unique() \n"
   ]
  },
  {
   "cell_type": "code",
   "execution_count": 16,
   "metadata": {},
   "outputs": [
    {
     "data": {
      "text/plain": [
       "array([42, 43, 44, 45, 46, 47, 48, 49, 50,  1,  2,  3,  4,  5,  6,  7,  8,\n",
       "        9, 10, 11, 12, 13, 14, 15, 16, 17, 18, 19, 20, 21, 22, 23, 24, 25,\n",
       "       26, 27, 28, 29, 30, 31, 32, 33, 34, 35, 36, 37, 38, 39, 40, 41],\n",
       "      dtype=int64)"
      ]
     },
     "execution_count": 16,
     "metadata": {},
     "output_type": "execute_result"
    }
   ],
   "source": [
    "CRSP.semester.unique() \n"
   ]
  },
  {
   "cell_type": "code",
   "execution_count": 17,
   "metadata": {},
   "outputs": [
    {
     "data": {
      "text/plain": [
       "array([nan, 'C', '0.020408', ..., '-0.340067', '-0.490385', '1.019231'],\n",
       "      dtype=object)"
      ]
     },
     "execution_count": 17,
     "metadata": {},
     "output_type": "execute_result"
    }
   ],
   "source": [
    "CRSP.RET.unique() "
   ]
  },
  {
   "cell_type": "markdown",
   "metadata": {},
   "source": [
    "#### Utiliser la fonction isin afin de générer un booléen qui donne le résultat True si NYSE ou AMEX, puis construire un nouveaux dataframe qui consiste de ces deux actifs "
   ]
  },
  {
   "cell_type": "code",
   "execution_count": 18,
   "metadata": {},
   "outputs": [
    {
     "data": {
      "text/html": [
       "<div>\n",
       "<style scoped>\n",
       "    .dataframe tbody tr th:only-of-type {\n",
       "        vertical-align: middle;\n",
       "    }\n",
       "\n",
       "    .dataframe tbody tr th {\n",
       "        vertical-align: top;\n",
       "    }\n",
       "\n",
       "    .dataframe thead th {\n",
       "        text-align: right;\n",
       "    }\n",
       "</style>\n",
       "<table border=\"1\" class=\"dataframe\">\n",
       "  <thead>\n",
       "    <tr style=\"text-align: right;\">\n",
       "      <th></th>\n",
       "      <th>PERMNO</th>\n",
       "      <th>date</th>\n",
       "      <th>PRIMEXCH</th>\n",
       "      <th>RET</th>\n",
       "      <th>semester</th>\n",
       "    </tr>\n",
       "  </thead>\n",
       "  <tbody>\n",
       "    <tr>\n",
       "      <th>147</th>\n",
       "      <td>10006</td>\n",
       "      <td>19650129</td>\n",
       "      <td>N</td>\n",
       "      <td>0.053459</td>\n",
       "      <td>1</td>\n",
       "    </tr>\n",
       "    <tr>\n",
       "      <th>148</th>\n",
       "      <td>10006</td>\n",
       "      <td>19650226</td>\n",
       "      <td>N</td>\n",
       "      <td>-0.025970</td>\n",
       "      <td>1</td>\n",
       "    </tr>\n",
       "    <tr>\n",
       "      <th>149</th>\n",
       "      <td>10006</td>\n",
       "      <td>19650331</td>\n",
       "      <td>N</td>\n",
       "      <td>0.040248</td>\n",
       "      <td>1</td>\n",
       "    </tr>\n",
       "    <tr>\n",
       "      <th>150</th>\n",
       "      <td>10006</td>\n",
       "      <td>19650430</td>\n",
       "      <td>N</td>\n",
       "      <td>0.084821</td>\n",
       "      <td>1</td>\n",
       "    </tr>\n",
       "    <tr>\n",
       "      <th>151</th>\n",
       "      <td>10006</td>\n",
       "      <td>19650528</td>\n",
       "      <td>N</td>\n",
       "      <td>-0.043621</td>\n",
       "      <td>1</td>\n",
       "    </tr>\n",
       "  </tbody>\n",
       "</table>\n",
       "</div>"
      ],
      "text/plain": [
       "     PERMNO      date PRIMEXCH        RET  semester\n",
       "147   10006  19650129        N   0.053459         1\n",
       "148   10006  19650226        N  -0.025970         1\n",
       "149   10006  19650331        N   0.040248         1\n",
       "150   10006  19650430        N   0.084821         1\n",
       "151   10006  19650528        N  -0.043621         1"
      ]
     },
     "execution_count": 18,
     "metadata": {},
     "output_type": "execute_result"
    }
   ],
   "source": [
    "stocks = CRSP[\"PRIMEXCH\"].isin([\"A\",\"N\"]) \n",
    "CRSP = CRSP[stocks]\n",
    "CRSP.head()"
   ]
  },
  {
   "cell_type": "markdown",
   "metadata": {},
   "source": [
    "#### Contrôler si la fonction a donné les résultats souhaités"
   ]
  },
  {
   "cell_type": "code",
   "execution_count": 19,
   "metadata": {},
   "outputs": [
    {
     "data": {
      "text/plain": [
       "array(['N', 'A'], dtype=object)"
      ]
     },
     "execution_count": 19,
     "metadata": {},
     "output_type": "execute_result"
    }
   ],
   "source": [
    "CRSP.PRIMEXCH.unique() "
   ]
  },
  {
   "cell_type": "code",
   "execution_count": 20,
   "metadata": {},
   "outputs": [
    {
     "data": {
      "text/html": [
       "<div>\n",
       "<style scoped>\n",
       "    .dataframe tbody tr th:only-of-type {\n",
       "        vertical-align: middle;\n",
       "    }\n",
       "\n",
       "    .dataframe tbody tr th {\n",
       "        vertical-align: top;\n",
       "    }\n",
       "\n",
       "    .dataframe thead th {\n",
       "        text-align: right;\n",
       "    }\n",
       "</style>\n",
       "<table border=\"1\" class=\"dataframe\">\n",
       "  <thead>\n",
       "    <tr style=\"text-align: right;\">\n",
       "      <th></th>\n",
       "      <th>PERMNO</th>\n",
       "      <th>date</th>\n",
       "      <th>PRIMEXCH</th>\n",
       "      <th>RET</th>\n",
       "      <th>semester</th>\n",
       "    </tr>\n",
       "  </thead>\n",
       "  <tbody>\n",
       "    <tr>\n",
       "      <th>760935</th>\n",
       "      <td>50833</td>\n",
       "      <td>19770131</td>\n",
       "      <td>A</td>\n",
       "      <td>-0.000000</td>\n",
       "      <td>25</td>\n",
       "    </tr>\n",
       "    <tr>\n",
       "      <th>856426</th>\n",
       "      <td>56434</td>\n",
       "      <td>19730629</td>\n",
       "      <td>A</td>\n",
       "      <td>-0.000000</td>\n",
       "      <td>17</td>\n",
       "    </tr>\n",
       "    <tr>\n",
       "      <th>687478</th>\n",
       "      <td>47001</td>\n",
       "      <td>19800630</td>\n",
       "      <td>N</td>\n",
       "      <td>-0.000000</td>\n",
       "      <td>31</td>\n",
       "    </tr>\n",
       "    <tr>\n",
       "      <th>660042</th>\n",
       "      <td>45612</td>\n",
       "      <td>19711130</td>\n",
       "      <td>A</td>\n",
       "      <td>-0.000000</td>\n",
       "      <td>14</td>\n",
       "    </tr>\n",
       "    <tr>\n",
       "      <th>638050</th>\n",
       "      <td>44345</td>\n",
       "      <td>19780131</td>\n",
       "      <td>N</td>\n",
       "      <td>-0.000000</td>\n",
       "      <td>27</td>\n",
       "    </tr>\n",
       "    <tr>\n",
       "      <th>...</th>\n",
       "      <td>...</td>\n",
       "      <td>...</td>\n",
       "      <td>...</td>\n",
       "      <td>...</td>\n",
       "      <td>...</td>\n",
       "    </tr>\n",
       "    <tr>\n",
       "      <th>1214157</th>\n",
       "      <td>92567</td>\n",
       "      <td>19891130</td>\n",
       "      <td>N</td>\n",
       "      <td>NaN</td>\n",
       "      <td>50</td>\n",
       "    </tr>\n",
       "    <tr>\n",
       "      <th>1214301</th>\n",
       "      <td>92639</td>\n",
       "      <td>19880729</td>\n",
       "      <td>N</td>\n",
       "      <td>NaN</td>\n",
       "      <td>48</td>\n",
       "    </tr>\n",
       "    <tr>\n",
       "      <th>1215281</th>\n",
       "      <td>92946</td>\n",
       "      <td>19890929</td>\n",
       "      <td>A</td>\n",
       "      <td>NaN</td>\n",
       "      <td>50</td>\n",
       "    </tr>\n",
       "    <tr>\n",
       "      <th>1216118</th>\n",
       "      <td>93172</td>\n",
       "      <td>19860731</td>\n",
       "      <td>A</td>\n",
       "      <td>NaN</td>\n",
       "      <td>44</td>\n",
       "    </tr>\n",
       "    <tr>\n",
       "      <th>1216121</th>\n",
       "      <td>93172</td>\n",
       "      <td>19861031</td>\n",
       "      <td>A</td>\n",
       "      <td>NaN</td>\n",
       "      <td>44</td>\n",
       "    </tr>\n",
       "  </tbody>\n",
       "</table>\n",
       "<p>619097 rows × 5 columns</p>\n",
       "</div>"
      ],
      "text/plain": [
       "         PERMNO      date PRIMEXCH        RET  semester\n",
       "760935    50833  19770131        A  -0.000000        25\n",
       "856426    56434  19730629        A  -0.000000        17\n",
       "687478    47001  19800630        N  -0.000000        31\n",
       "660042    45612  19711130        A  -0.000000        14\n",
       "638050    44345  19780131        N  -0.000000        27\n",
       "...         ...       ...      ...        ...       ...\n",
       "1214157   92567  19891130        N        NaN        50\n",
       "1214301   92639  19880729        N        NaN        48\n",
       "1215281   92946  19890929        A        NaN        50\n",
       "1216118   93172  19860731        A        NaN        44\n",
       "1216121   93172  19861031        A        NaN        44\n",
       "\n",
       "[619097 rows x 5 columns]"
      ]
     },
     "execution_count": 20,
     "metadata": {},
     "output_type": "execute_result"
    }
   ],
   "source": [
    "CRSP.sort_values(by='RET')"
   ]
  },
  {
   "cell_type": "markdown",
   "metadata": {},
   "source": [
    "#### Observer le dtype de RET"
   ]
  },
  {
   "cell_type": "code",
   "execution_count": 21,
   "metadata": {},
   "outputs": [
    {
     "data": {
      "text/plain": [
       "0.000000     21537\n",
       "C             1946\n",
       "-0.111111     1531\n",
       "-0.100000     1441\n",
       "-0.083333     1399\n",
       "             ...  \n",
       "-0.022268        1\n",
       "0.006241         1\n",
       "-0.027914        1\n",
       "0.001829         1\n",
       "0.010378         1\n",
       "Name: RET, Length: 101899, dtype: int64"
      ]
     },
     "execution_count": 21,
     "metadata": {},
     "output_type": "execute_result"
    }
   ],
   "source": [
    "CRSP['RET'].value_counts()"
   ]
  },
  {
   "cell_type": "markdown",
   "metadata": {},
   "source": [
    "#### Constituer un dictionnaire à partir des valeurs non souhaitées et changer le dtype de ces variables"
   ]
  },
  {
   "cell_type": "code",
   "execution_count": 22,
   "metadata": {},
   "outputs": [],
   "source": [
    "NADict = {-99:np.nan, -88:np.nan, -77:np.nan, -66:np.nan, 'B':np.nan, 'C':np.nan}\n",
    "CRSP = CRSP.replace({'RET': NADict})"
   ]
  },
  {
   "cell_type": "markdown",
   "metadata": {},
   "source": [
    "#### Drop tous nan \"valeur non defini\" dans le dataframe grâce à la méthode dropna "
   ]
  },
  {
   "cell_type": "code",
   "execution_count": 23,
   "metadata": {
    "scrolled": false
   },
   "outputs": [
    {
     "data": {
      "text/html": [
       "<div>\n",
       "<style scoped>\n",
       "    .dataframe tbody tr th:only-of-type {\n",
       "        vertical-align: middle;\n",
       "    }\n",
       "\n",
       "    .dataframe tbody tr th {\n",
       "        vertical-align: top;\n",
       "    }\n",
       "\n",
       "    .dataframe thead th {\n",
       "        text-align: right;\n",
       "    }\n",
       "</style>\n",
       "<table border=\"1\" class=\"dataframe\">\n",
       "  <thead>\n",
       "    <tr style=\"text-align: right;\">\n",
       "      <th></th>\n",
       "      <th>PERMNO</th>\n",
       "      <th>date</th>\n",
       "      <th>PRIMEXCH</th>\n",
       "      <th>RET</th>\n",
       "      <th>semester</th>\n",
       "    </tr>\n",
       "  </thead>\n",
       "  <tbody>\n",
       "    <tr>\n",
       "      <th>147</th>\n",
       "      <td>10006</td>\n",
       "      <td>19650129</td>\n",
       "      <td>N</td>\n",
       "      <td>0.053459</td>\n",
       "      <td>1</td>\n",
       "    </tr>\n",
       "    <tr>\n",
       "      <th>148</th>\n",
       "      <td>10006</td>\n",
       "      <td>19650226</td>\n",
       "      <td>N</td>\n",
       "      <td>-0.025970</td>\n",
       "      <td>1</td>\n",
       "    </tr>\n",
       "    <tr>\n",
       "      <th>149</th>\n",
       "      <td>10006</td>\n",
       "      <td>19650331</td>\n",
       "      <td>N</td>\n",
       "      <td>0.040248</td>\n",
       "      <td>1</td>\n",
       "    </tr>\n",
       "    <tr>\n",
       "      <th>150</th>\n",
       "      <td>10006</td>\n",
       "      <td>19650430</td>\n",
       "      <td>N</td>\n",
       "      <td>0.084821</td>\n",
       "      <td>1</td>\n",
       "    </tr>\n",
       "    <tr>\n",
       "      <th>151</th>\n",
       "      <td>10006</td>\n",
       "      <td>19650528</td>\n",
       "      <td>N</td>\n",
       "      <td>-0.043621</td>\n",
       "      <td>1</td>\n",
       "    </tr>\n",
       "  </tbody>\n",
       "</table>\n",
       "</div>"
      ],
      "text/plain": [
       "     PERMNO      date PRIMEXCH       RET  semester\n",
       "147   10006  19650129        N  0.053459         1\n",
       "148   10006  19650226        N -0.025970         1\n",
       "149   10006  19650331        N  0.040248         1\n",
       "150   10006  19650430        N  0.084821         1\n",
       "151   10006  19650528        N -0.043621         1"
      ]
     },
     "execution_count": 23,
     "metadata": {},
     "output_type": "execute_result"
    }
   ],
   "source": [
    "CRSP.dropna(inplace=True)\n",
    "CRSP['RET'] = CRSP['RET'].astype(float)\n",
    "CRSP['PRIMEXCH'] = CRSP['PRIMEXCH'].astype(object)\n",
    "CRSP.head()"
   ]
  },
  {
   "cell_type": "code",
   "execution_count": 24,
   "metadata": {
    "scrolled": true
   },
   "outputs": [
    {
     "data": {
      "text/plain": [
       " 0.000000    21602\n",
       "-0.111111     1531\n",
       "-0.100000     1441\n",
       "-0.083333     1399\n",
       "-0.125000     1387\n",
       "             ...  \n",
       "-0.028179        1\n",
       " 0.059197        1\n",
       "-0.172336        1\n",
       "-0.001116        1\n",
       "-0.239567        1\n",
       "Name: RET, Length: 101897, dtype: int64"
      ]
     },
     "execution_count": 24,
     "metadata": {},
     "output_type": "execute_result"
    }
   ],
   "source": [
    "CRSP['RET'].value_counts()"
   ]
  },
  {
   "cell_type": "markdown",
   "metadata": {},
   "source": [
    "#### Observer les valeurs minimum et maximum dans un tuple"
   ]
  },
  {
   "cell_type": "code",
   "execution_count": 25,
   "metadata": {},
   "outputs": [
    {
     "data": {
      "text/plain": [
       "(4.846154, -0.863636)"
      ]
     },
     "execution_count": 25,
     "metadata": {},
     "output_type": "execute_result"
    }
   ],
   "source": [
    "(CRSP.RET.max(), CRSP.RET.min())"
   ]
  },
  {
   "cell_type": "markdown",
   "metadata": {},
   "source": [
    "#### Trier le dataframe par rapport à la colonne RET"
   ]
  },
  {
   "cell_type": "code",
   "execution_count": 26,
   "metadata": {},
   "outputs": [
    {
     "data": {
      "text/html": [
       "<div>\n",
       "<style scoped>\n",
       "    .dataframe tbody tr th:only-of-type {\n",
       "        vertical-align: middle;\n",
       "    }\n",
       "\n",
       "    .dataframe tbody tr th {\n",
       "        vertical-align: top;\n",
       "    }\n",
       "\n",
       "    .dataframe thead th {\n",
       "        text-align: right;\n",
       "    }\n",
       "</style>\n",
       "<table border=\"1\" class=\"dataframe\">\n",
       "  <thead>\n",
       "    <tr style=\"text-align: right;\">\n",
       "      <th></th>\n",
       "      <th>PERMNO</th>\n",
       "      <th>date</th>\n",
       "      <th>PRIMEXCH</th>\n",
       "      <th>RET</th>\n",
       "      <th>semester</th>\n",
       "    </tr>\n",
       "  </thead>\n",
       "  <tbody>\n",
       "    <tr>\n",
       "      <th>987988</th>\n",
       "      <td>63511</td>\n",
       "      <td>19870630</td>\n",
       "      <td>N</td>\n",
       "      <td>-0.863636</td>\n",
       "      <td>45</td>\n",
       "    </tr>\n",
       "    <tr>\n",
       "      <th>1044473</th>\n",
       "      <td>67109</td>\n",
       "      <td>19861231</td>\n",
       "      <td>N</td>\n",
       "      <td>-0.808824</td>\n",
       "      <td>44</td>\n",
       "    </tr>\n",
       "    <tr>\n",
       "      <th>802185</th>\n",
       "      <td>53268</td>\n",
       "      <td>19740731</td>\n",
       "      <td>A</td>\n",
       "      <td>-0.808696</td>\n",
       "      <td>20</td>\n",
       "    </tr>\n",
       "    <tr>\n",
       "      <th>485822</th>\n",
       "      <td>36214</td>\n",
       "      <td>19740531</td>\n",
       "      <td>A</td>\n",
       "      <td>-0.789474</td>\n",
       "      <td>19</td>\n",
       "    </tr>\n",
       "    <tr>\n",
       "      <th>987361</th>\n",
       "      <td>63482</td>\n",
       "      <td>19860530</td>\n",
       "      <td>N</td>\n",
       "      <td>-0.785714</td>\n",
       "      <td>43</td>\n",
       "    </tr>\n",
       "    <tr>\n",
       "      <th>...</th>\n",
       "      <td>...</td>\n",
       "      <td>...</td>\n",
       "      <td>...</td>\n",
       "      <td>...</td>\n",
       "      <td>...</td>\n",
       "    </tr>\n",
       "    <tr>\n",
       "      <th>139829</th>\n",
       "      <td>17072</td>\n",
       "      <td>19740131</td>\n",
       "      <td>N</td>\n",
       "      <td>3.000000</td>\n",
       "      <td>19</td>\n",
       "    </tr>\n",
       "    <tr>\n",
       "      <th>766769</th>\n",
       "      <td>51190</td>\n",
       "      <td>19741031</td>\n",
       "      <td>A</td>\n",
       "      <td>3.166667</td>\n",
       "      <td>20</td>\n",
       "    </tr>\n",
       "    <tr>\n",
       "      <th>1005871</th>\n",
       "      <td>64493</td>\n",
       "      <td>19860731</td>\n",
       "      <td>A</td>\n",
       "      <td>3.600000</td>\n",
       "      <td>44</td>\n",
       "    </tr>\n",
       "    <tr>\n",
       "      <th>834808</th>\n",
       "      <td>55167</td>\n",
       "      <td>19750131</td>\n",
       "      <td>A</td>\n",
       "      <td>3.600000</td>\n",
       "      <td>21</td>\n",
       "    </tr>\n",
       "    <tr>\n",
       "      <th>485320</th>\n",
       "      <td>36185</td>\n",
       "      <td>19860228</td>\n",
       "      <td>A</td>\n",
       "      <td>4.846154</td>\n",
       "      <td>43</td>\n",
       "    </tr>\n",
       "  </tbody>\n",
       "</table>\n",
       "<p>612402 rows × 5 columns</p>\n",
       "</div>"
      ],
      "text/plain": [
       "         PERMNO      date PRIMEXCH       RET  semester\n",
       "987988    63511  19870630        N -0.863636        45\n",
       "1044473   67109  19861231        N -0.808824        44\n",
       "802185    53268  19740731        A -0.808696        20\n",
       "485822    36214  19740531        A -0.789474        19\n",
       "987361    63482  19860530        N -0.785714        43\n",
       "...         ...       ...      ...       ...       ...\n",
       "139829    17072  19740131        N  3.000000        19\n",
       "766769    51190  19741031        A  3.166667        20\n",
       "1005871   64493  19860731        A  3.600000        44\n",
       "834808    55167  19750131        A  3.600000        21\n",
       "485320    36185  19860228        A  4.846154        43\n",
       "\n",
       "[612402 rows x 5 columns]"
      ]
     },
     "execution_count": 26,
     "metadata": {},
     "output_type": "execute_result"
    }
   ],
   "source": [
    "CRSP.sort_values(by='RET')"
   ]
  },
  {
   "cell_type": "markdown",
   "metadata": {},
   "source": [
    "### 4.2  Constitution des portefeuilles Loosers et Winners"
   ]
  },
  {
   "cell_type": "code",
   "execution_count": 27,
   "metadata": {},
   "outputs": [
    {
     "name": "stdout",
     "output_type": "stream",
     "text": [
      "         PERMNO      date PRIMEXCH       RET  semester\n",
      "147       10006  19650129        N  0.053459         1\n",
      "148       10006  19650226        N -0.025970         1\n",
      "149       10006  19650331        N  0.040248         1\n",
      "150       10006  19650430        N  0.084821         1\n",
      "151       10006  19650528        N -0.043621         1\n",
      "...         ...       ...      ...       ...       ...\n",
      "1195675   86239  19650129        N  0.166667         1\n",
      "1195676   86239  19650226        N  0.010204         1\n",
      "1195677   86239  19650331        N  0.060606         1\n",
      "1195678   86239  19650430        N  0.228571         1\n",
      "1195679   86239  19650528        N -0.062016         1\n",
      "\n",
      "[9213 rows x 5 columns]\n"
     ]
    }
   ],
   "source": [
    "#Retenir les rendements des 12 premiers mois (2 semestres)\n",
    "formPerioddata = CRSP[CRSP['semester'].between(1, 2, inclusive=True)]\n",
    "#Grouper les données par PERMNO\n",
    "by_PERMNO = formPerioddata.groupby('PERMNO')\n",
    "print(by_PERMNO.head())"
   ]
  },
  {
   "cell_type": "code",
   "execution_count": 28,
   "metadata": {},
   "outputs": [
    {
     "data": {
      "text/html": [
       "<div>\n",
       "<style scoped>\n",
       "    .dataframe tbody tr th:only-of-type {\n",
       "        vertical-align: middle;\n",
       "    }\n",
       "\n",
       "    .dataframe tbody tr th {\n",
       "        vertical-align: top;\n",
       "    }\n",
       "\n",
       "    .dataframe thead th {\n",
       "        text-align: right;\n",
       "    }\n",
       "</style>\n",
       "<table border=\"1\" class=\"dataframe\">\n",
       "  <thead>\n",
       "    <tr style=\"text-align: right;\">\n",
       "      <th></th>\n",
       "      <th>RET_form</th>\n",
       "    </tr>\n",
       "    <tr>\n",
       "      <th>PERMNO</th>\n",
       "      <th></th>\n",
       "    </tr>\n",
       "  </thead>\n",
       "  <tbody>\n",
       "    <tr>\n",
       "      <th>31579</th>\n",
       "      <td>3.069201</td>\n",
       "    </tr>\n",
       "    <tr>\n",
       "      <th>38156</th>\n",
       "      <td>2.781328</td>\n",
       "    </tr>\n",
       "    <tr>\n",
       "      <th>34569</th>\n",
       "      <td>2.739458</td>\n",
       "    </tr>\n",
       "    <tr>\n",
       "      <th>41072</th>\n",
       "      <td>1.966338</td>\n",
       "    </tr>\n",
       "    <tr>\n",
       "      <th>28169</th>\n",
       "      <td>1.952610</td>\n",
       "    </tr>\n",
       "    <tr>\n",
       "      <th>...</th>\n",
       "      <td>...</td>\n",
       "    </tr>\n",
       "    <tr>\n",
       "      <th>39888</th>\n",
       "      <td>-0.369274</td>\n",
       "    </tr>\n",
       "    <tr>\n",
       "      <th>35721</th>\n",
       "      <td>-0.432555</td>\n",
       "    </tr>\n",
       "    <tr>\n",
       "      <th>14920</th>\n",
       "      <td>-0.467856</td>\n",
       "    </tr>\n",
       "    <tr>\n",
       "      <th>33144</th>\n",
       "      <td>-0.541601</td>\n",
       "    </tr>\n",
       "    <tr>\n",
       "      <th>37671</th>\n",
       "      <td>-0.585565</td>\n",
       "    </tr>\n",
       "  </tbody>\n",
       "</table>\n",
       "<p>1873 rows × 1 columns</p>\n",
       "</div>"
      ],
      "text/plain": [
       "        RET_form\n",
       "PERMNO          \n",
       "31579   3.069201\n",
       "38156   2.781328\n",
       "34569   2.739458\n",
       "41072   1.966338\n",
       "28169   1.952610\n",
       "...          ...\n",
       "39888  -0.369274\n",
       "35721  -0.432555\n",
       "14920  -0.467856\n",
       "33144  -0.541601\n",
       "37671  -0.585565\n",
       "\n",
       "[1873 rows x 1 columns]"
      ]
     },
     "execution_count": 28,
     "metadata": {},
     "output_type": "execute_result"
    }
   ],
   "source": [
    "#De se groupby on somme la colonne \"RET\" pour chaque PERMNO dans la période  de formation\n",
    "RETform = pd.DataFrame(by_PERMNO[['RET']].sum())\n",
    "#On renomme la colonne RET à \"RET_form\" pour le merge plus tard\n",
    "RETform.columns = ['RET_form']\n",
    "#On tri les valeurs dans un ordre décroissant\n",
    "RETform.sort_values(by = 'RET_form', ascending=False, inplace = True)\n",
    "RETform"
   ]
  },
  {
   "cell_type": "markdown",
   "metadata": {},
   "source": [
    "**Créer 10 portefeuilles (numéroté de 0 à 9) PF = 9 représente les 10% de rentabilités cumulées les plus fortes.  Ce tri nous donne 376 portefeuilles au total soit 188 portefeuilles pour PF9 et 188 portefeuilles pour PF0.**"
   ]
  },
  {
   "cell_type": "code",
   "execution_count": 29,
   "metadata": {},
   "outputs": [
    {
     "data": {
      "text/plain": [
       "9    188\n",
       "4    188\n",
       "0    188\n",
       "8    187\n",
       "7    187\n",
       "6    187\n",
       "5    187\n",
       "3    187\n",
       "2    187\n",
       "1    187\n",
       "Name: PF_num, dtype: int64"
      ]
     },
     "execution_count": 29,
     "metadata": {},
     "output_type": "execute_result"
    }
   ],
   "source": [
    "formPortfolio = pd.DataFrame(pd.qcut(RETform['RET_form'], q=10, labels=False))\n",
    "formPortfolio.columns = ['PF_num']\n",
    "formPortfolio['PF_num'].value_counts()"
   ]
  },
  {
   "cell_type": "code",
   "execution_count": 30,
   "metadata": {},
   "outputs": [
    {
     "data": {
      "text/html": [
       "<div>\n",
       "<style scoped>\n",
       "    .dataframe tbody tr th:only-of-type {\n",
       "        vertical-align: middle;\n",
       "    }\n",
       "\n",
       "    .dataframe tbody tr th {\n",
       "        vertical-align: top;\n",
       "    }\n",
       "\n",
       "    .dataframe thead th {\n",
       "        text-align: right;\n",
       "    }\n",
       "</style>\n",
       "<table border=\"1\" class=\"dataframe\">\n",
       "  <thead>\n",
       "    <tr style=\"text-align: right;\">\n",
       "      <th></th>\n",
       "      <th>PF_num</th>\n",
       "    </tr>\n",
       "    <tr>\n",
       "      <th>PERMNO</th>\n",
       "      <th></th>\n",
       "    </tr>\n",
       "  </thead>\n",
       "  <tbody>\n",
       "    <tr>\n",
       "      <th>31579</th>\n",
       "      <td>9</td>\n",
       "    </tr>\n",
       "    <tr>\n",
       "      <th>38156</th>\n",
       "      <td>9</td>\n",
       "    </tr>\n",
       "    <tr>\n",
       "      <th>34569</th>\n",
       "      <td>9</td>\n",
       "    </tr>\n",
       "    <tr>\n",
       "      <th>41072</th>\n",
       "      <td>9</td>\n",
       "    </tr>\n",
       "    <tr>\n",
       "      <th>28169</th>\n",
       "      <td>9</td>\n",
       "    </tr>\n",
       "    <tr>\n",
       "      <th>...</th>\n",
       "      <td>...</td>\n",
       "    </tr>\n",
       "    <tr>\n",
       "      <th>39888</th>\n",
       "      <td>0</td>\n",
       "    </tr>\n",
       "    <tr>\n",
       "      <th>35721</th>\n",
       "      <td>0</td>\n",
       "    </tr>\n",
       "    <tr>\n",
       "      <th>14920</th>\n",
       "      <td>0</td>\n",
       "    </tr>\n",
       "    <tr>\n",
       "      <th>33144</th>\n",
       "      <td>0</td>\n",
       "    </tr>\n",
       "    <tr>\n",
       "      <th>37671</th>\n",
       "      <td>0</td>\n",
       "    </tr>\n",
       "  </tbody>\n",
       "</table>\n",
       "<p>1873 rows × 1 columns</p>\n",
       "</div>"
      ],
      "text/plain": [
       "        PF_num\n",
       "PERMNO        \n",
       "31579        9\n",
       "38156        9\n",
       "34569        9\n",
       "41072        9\n",
       "28169        9\n",
       "...        ...\n",
       "39888        0\n",
       "35721        0\n",
       "14920        0\n",
       "33144        0\n",
       "37671        0\n",
       "\n",
       "[1873 rows x 1 columns]"
      ]
     },
     "execution_count": 30,
     "metadata": {},
     "output_type": "execute_result"
    }
   ],
   "source": [
    "formPortfolio"
   ]
  },
  {
   "cell_type": "markdown",
   "metadata": {},
   "source": [
    "#### Merge les numéros de portefeuille avec RET_form sur PERMNO et utiliser fonction isin pour sélectionner portefeuilles 0 et 9. Créer un nouveau dataframe avec seulement PF = 0 et 9. "
   ]
  },
  {
   "cell_type": "code",
   "execution_count": 31,
   "metadata": {},
   "outputs": [
    {
     "data": {
      "text/html": [
       "<div>\n",
       "<style scoped>\n",
       "    .dataframe tbody tr th:only-of-type {\n",
       "        vertical-align: middle;\n",
       "    }\n",
       "\n",
       "    .dataframe tbody tr th {\n",
       "        vertical-align: top;\n",
       "    }\n",
       "\n",
       "    .dataframe thead th {\n",
       "        text-align: right;\n",
       "    }\n",
       "</style>\n",
       "<table border=\"1\" class=\"dataframe\">\n",
       "  <thead>\n",
       "    <tr style=\"text-align: right;\">\n",
       "      <th></th>\n",
       "      <th>PF_num</th>\n",
       "      <th>RET_form</th>\n",
       "    </tr>\n",
       "    <tr>\n",
       "      <th>PERMNO</th>\n",
       "      <th></th>\n",
       "      <th></th>\n",
       "    </tr>\n",
       "  </thead>\n",
       "  <tbody>\n",
       "    <tr>\n",
       "      <th>31579</th>\n",
       "      <td>9</td>\n",
       "      <td>3.069201</td>\n",
       "    </tr>\n",
       "    <tr>\n",
       "      <th>38156</th>\n",
       "      <td>9</td>\n",
       "      <td>2.781328</td>\n",
       "    </tr>\n",
       "    <tr>\n",
       "      <th>34569</th>\n",
       "      <td>9</td>\n",
       "      <td>2.739458</td>\n",
       "    </tr>\n",
       "    <tr>\n",
       "      <th>41072</th>\n",
       "      <td>9</td>\n",
       "      <td>1.966338</td>\n",
       "    </tr>\n",
       "    <tr>\n",
       "      <th>28169</th>\n",
       "      <td>9</td>\n",
       "      <td>1.952610</td>\n",
       "    </tr>\n",
       "    <tr>\n",
       "      <th>...</th>\n",
       "      <td>...</td>\n",
       "      <td>...</td>\n",
       "    </tr>\n",
       "    <tr>\n",
       "      <th>39888</th>\n",
       "      <td>0</td>\n",
       "      <td>-0.369274</td>\n",
       "    </tr>\n",
       "    <tr>\n",
       "      <th>35721</th>\n",
       "      <td>0</td>\n",
       "      <td>-0.432555</td>\n",
       "    </tr>\n",
       "    <tr>\n",
       "      <th>14920</th>\n",
       "      <td>0</td>\n",
       "      <td>-0.467856</td>\n",
       "    </tr>\n",
       "    <tr>\n",
       "      <th>33144</th>\n",
       "      <td>0</td>\n",
       "      <td>-0.541601</td>\n",
       "    </tr>\n",
       "    <tr>\n",
       "      <th>37671</th>\n",
       "      <td>0</td>\n",
       "      <td>-0.585565</td>\n",
       "    </tr>\n",
       "  </tbody>\n",
       "</table>\n",
       "<p>376 rows × 2 columns</p>\n",
       "</div>"
      ],
      "text/plain": [
       "        PF_num  RET_form\n",
       "PERMNO                  \n",
       "31579        9  3.069201\n",
       "38156        9  2.781328\n",
       "34569        9  2.739458\n",
       "41072        9  1.966338\n",
       "28169        9  1.952610\n",
       "...        ...       ...\n",
       "39888        0 -0.369274\n",
       "35721        0 -0.432555\n",
       "14920        0 -0.467856\n",
       "33144        0 -0.541601\n",
       "37671        0 -0.585565\n",
       "\n",
       "[376 rows x 2 columns]"
      ]
     },
     "execution_count": 31,
     "metadata": {},
     "output_type": "execute_result"
    }
   ],
   "source": [
    "PF_merge = pd.merge(formPortfolio, RETform, how='left', on='PERMNO')\n",
    "Win_Lose = PF_merge[\"PF_num\"].isin([0,9])\n",
    "PF_WL = PF_merge[Win_Lose]\n",
    "PF_WL"
   ]
  },
  {
   "cell_type": "markdown",
   "metadata": {},
   "source": [
    "## 4.3 Calcul de la rentabilité sur les 6 mois suivants\n",
    "#### on calcule dèsormais le rendement des PF dans la période holding, après la période de formation de 12 mois. On commence par calculer le rendement cumulé par action sur la période en utilisant la fonction groupby "
   ]
  },
  {
   "cell_type": "code",
   "execution_count": 32,
   "metadata": {},
   "outputs": [
    {
     "data": {
      "text/html": [
       "<div>\n",
       "<style scoped>\n",
       "    .dataframe tbody tr th:only-of-type {\n",
       "        vertical-align: middle;\n",
       "    }\n",
       "\n",
       "    .dataframe tbody tr th {\n",
       "        vertical-align: top;\n",
       "    }\n",
       "\n",
       "    .dataframe thead th {\n",
       "        text-align: right;\n",
       "    }\n",
       "</style>\n",
       "<table border=\"1\" class=\"dataframe\">\n",
       "  <thead>\n",
       "    <tr style=\"text-align: right;\">\n",
       "      <th></th>\n",
       "      <th>PERMNO</th>\n",
       "      <th>RET_hold</th>\n",
       "    </tr>\n",
       "  </thead>\n",
       "  <tbody>\n",
       "    <tr>\n",
       "      <th>0</th>\n",
       "      <td>32352</td>\n",
       "      <td>2.932340</td>\n",
       "    </tr>\n",
       "    <tr>\n",
       "      <th>1</th>\n",
       "      <td>29532</td>\n",
       "      <td>1.834482</td>\n",
       "    </tr>\n",
       "    <tr>\n",
       "      <th>2</th>\n",
       "      <td>33136</td>\n",
       "      <td>1.610104</td>\n",
       "    </tr>\n",
       "    <tr>\n",
       "      <th>3</th>\n",
       "      <td>38770</td>\n",
       "      <td>1.542140</td>\n",
       "    </tr>\n",
       "    <tr>\n",
       "      <th>4</th>\n",
       "      <td>36222</td>\n",
       "      <td>1.414053</td>\n",
       "    </tr>\n",
       "    <tr>\n",
       "      <th>...</th>\n",
       "      <td>...</td>\n",
       "      <td>...</td>\n",
       "    </tr>\n",
       "    <tr>\n",
       "      <th>1843</th>\n",
       "      <td>28177</td>\n",
       "      <td>-0.520717</td>\n",
       "    </tr>\n",
       "    <tr>\n",
       "      <th>1844</th>\n",
       "      <td>35641</td>\n",
       "      <td>-0.534234</td>\n",
       "    </tr>\n",
       "    <tr>\n",
       "      <th>1845</th>\n",
       "      <td>37217</td>\n",
       "      <td>-0.540022</td>\n",
       "    </tr>\n",
       "    <tr>\n",
       "      <th>1846</th>\n",
       "      <td>40811</td>\n",
       "      <td>-0.544258</td>\n",
       "    </tr>\n",
       "    <tr>\n",
       "      <th>1847</th>\n",
       "      <td>27297</td>\n",
       "      <td>-0.564991</td>\n",
       "    </tr>\n",
       "  </tbody>\n",
       "</table>\n",
       "<p>1848 rows × 2 columns</p>\n",
       "</div>"
      ],
      "text/plain": [
       "      PERMNO  RET_hold\n",
       "0      32352  2.932340\n",
       "1      29532  1.834482\n",
       "2      33136  1.610104\n",
       "3      38770  1.542140\n",
       "4      36222  1.414053\n",
       "...      ...       ...\n",
       "1843   28177 -0.520717\n",
       "1844   35641 -0.534234\n",
       "1845   37217 -0.540022\n",
       "1846   40811 -0.544258\n",
       "1847   27297 -0.564991\n",
       "\n",
       "[1848 rows x 2 columns]"
      ]
     },
     "execution_count": 32,
     "metadata": {},
     "output_type": "execute_result"
    }
   ],
   "source": [
    "estPeriodData = CRSP[CRSP['semester'].between(2, 4, inclusive=False)]\n",
    "by_PERMNO2 = estPeriodData.groupby('PERMNO')\n",
    "PFhold = pd.DataFrame(by_PERMNO2[['RET']].sum())\n",
    "PFhold.columns = ['RET_hold']\n",
    "PFhold.sort_values(by = 'RET_hold', ascending=False, inplace = True)\n",
    "PFhold.reset_index(inplace=True) \n",
    "PFhold"
   ]
  },
  {
   "cell_type": "markdown",
   "metadata": {},
   "source": [
    "#### Calculer la rentabilité  moyenne mensuelle par PERMNO"
   ]
  },
  {
   "cell_type": "code",
   "execution_count": 33,
   "metadata": {
    "scrolled": true
   },
   "outputs": [
    {
     "data": {
      "text/html": [
       "<div>\n",
       "<style scoped>\n",
       "    .dataframe tbody tr th:only-of-type {\n",
       "        vertical-align: middle;\n",
       "    }\n",
       "\n",
       "    .dataframe tbody tr th {\n",
       "        vertical-align: top;\n",
       "    }\n",
       "\n",
       "    .dataframe thead th {\n",
       "        text-align: right;\n",
       "    }\n",
       "</style>\n",
       "<table border=\"1\" class=\"dataframe\">\n",
       "  <thead>\n",
       "    <tr style=\"text-align: right;\">\n",
       "      <th></th>\n",
       "      <th>PERMNO</th>\n",
       "      <th>PF_num</th>\n",
       "      <th>RET_form</th>\n",
       "      <th>RET_hold</th>\n",
       "    </tr>\n",
       "  </thead>\n",
       "  <tbody>\n",
       "    <tr>\n",
       "      <th>339</th>\n",
       "      <td>40811</td>\n",
       "      <td>0</td>\n",
       "      <td>-0.220553</td>\n",
       "      <td>-0.544258</td>\n",
       "    </tr>\n",
       "    <tr>\n",
       "      <th>64</th>\n",
       "      <td>37217</td>\n",
       "      <td>9</td>\n",
       "      <td>1.052460</td>\n",
       "      <td>-0.540022</td>\n",
       "    </tr>\n",
       "    <tr>\n",
       "      <th>167</th>\n",
       "      <td>35641</td>\n",
       "      <td>9</td>\n",
       "      <td>0.725091</td>\n",
       "      <td>-0.534234</td>\n",
       "    </tr>\n",
       "    <tr>\n",
       "      <th>361</th>\n",
       "      <td>28177</td>\n",
       "      <td>0</td>\n",
       "      <td>-0.332536</td>\n",
       "      <td>-0.520717</td>\n",
       "    </tr>\n",
       "    <tr>\n",
       "      <th>358</th>\n",
       "      <td>41021</td>\n",
       "      <td>0</td>\n",
       "      <td>-0.286484</td>\n",
       "      <td>-0.520145</td>\n",
       "    </tr>\n",
       "  </tbody>\n",
       "</table>\n",
       "</div>"
      ],
      "text/plain": [
       "     PERMNO  PF_num  RET_form  RET_hold\n",
       "339   40811       0 -0.220553 -0.544258\n",
       "64    37217       9  1.052460 -0.540022\n",
       "167   35641       9  0.725091 -0.534234\n",
       "361   28177       0 -0.332536 -0.520717\n",
       "358   41021       0 -0.286484 -0.520145"
      ]
     },
     "execution_count": 33,
     "metadata": {},
     "output_type": "execute_result"
    }
   ],
   "source": [
    "PF_formatest = pd.merge(PF_WL, PFhold, how=\"left\", on='PERMNO')\n",
    "PF_formatest.sort_values(by = 'RET_hold', inplace = True)\n",
    "PF_formatest.head()"
   ]
  },
  {
   "cell_type": "markdown",
   "metadata": {},
   "source": [
    "#### Calculer le différentiel des rentabilités sur ces 6 mois entre le portefeuille des Winners et Loosers et ajouter cette valeur à la liste retMom. Utiliser fonction ptp de numpy pour calculer l'écart entre ces deux PF"
   ]
  },
  {
   "cell_type": "code",
   "execution_count": 34,
   "metadata": {
    "scrolled": false
   },
   "outputs": [
    {
     "data": {
      "text/plain": [
       "PF_num\n",
       "0   -0.035613\n",
       "9    0.136269\n",
       "Name: RET_hold, dtype: float64"
      ]
     },
     "execution_count": 34,
     "metadata": {},
     "output_type": "execute_result"
    }
   ],
   "source": [
    "retMom = []\n",
    "Data = PF_formatest.groupby('PF_num')['RET_hold'].mean()\n",
    "Data"
   ]
  },
  {
   "cell_type": "code",
   "execution_count": 35,
   "metadata": {},
   "outputs": [
    {
     "data": {
      "text/plain": [
       "[0.17188154720548263]"
      ]
     },
     "execution_count": 35,
     "metadata": {},
     "output_type": "execute_result"
    }
   ],
   "source": [
    "r = np.ptp(Data)\n",
    "retMom.append(r)\n",
    "retMom"
   ]
  },
  {
   "cell_type": "markdown",
   "metadata": {},
   "source": [
    "#### Le rendement de la stratégie pour la première Itération est de 0,17. Cette valeur est ajoutée à la liste vide retMom. Maintenant il faut itérer sur les autres périodes en décalant de 1 semestre à chaque fois "
   ]
  },
  {
   "cell_type": "markdown",
   "metadata": {},
   "source": [
    "## 4.4 Itération et test de significativité\n"
   ]
  },
  {
   "cell_type": "markdown",
   "metadata": {},
   "source": [
    "#### 4.2 Période de formation des portefeuilles"
   ]
  },
  {
   "cell_type": "code",
   "execution_count": 36,
   "metadata": {},
   "outputs": [],
   "source": [
    "def formPeriod(formPerBounds):\n",
    "    \n",
    "#retenir rendements des premier 12 mois (2 semestres)\n",
    "    formPerioddata = CRSP[CRSP['semester'].between(formPerBounds[0], formPerBounds[1], inclusive=True)]\n",
    "#grouper les données par PERMNO \n",
    "    by_PERMNO = formPerioddata.groupby('PERMNO')\n",
    "#print(by_PERMNO.head())\n",
    "\n",
    "#De se groupby on somme la colonne RET pour chaque PERMNO dans la période de formation \n",
    "    RETform = pd.DataFrame(by_PERMNO[['RET']].sum())\n",
    "#On renomme la colonne RET a \"RET_form\" pour le merge plus tard.\n",
    "    RETform.columns = ['RET_form']\n",
    "#On tri aussi par le rendement le plus élevé\n",
    "    RETform.sort_values(by = 'RET_form', ascending=False, inplace = True)\n",
    "\n",
    "#Créer les 10 portefeuilles (de 0-9)\n",
    "    formPortfolio = pd.DataFrame(pd.qcut(RETform['RET_form'], q=10, labels=False))\n",
    "    formPortfolio.columns = ['PF_num']\n",
    "\n",
    "#merge les numeros des portefeuilles avec RET_form sur PERMNO\n",
    "    PF_merge = pd.merge(formPortfolio, RETform, how='left', on='PERMNO')\n",
    "\n",
    "#utiliser fonction isin pour sélectionner portefeuilles 0 et 9. \n",
    "    Win_Lose = PF_merge[\"PF_num\"].isin([0,9])\n",
    "    \n",
    "#Créer nouveaux dataframe avec seulement PF = 0 et 9.\n",
    "    PF_WL = PF_merge[Win_Lose]\n",
    "    formPeriodRet = PF_WL\n",
    "    \n",
    "    '''formPeriodRet.()\n",
    "    \n",
    "                PF_num RET_form\n",
    "        PERMNO       \n",
    "        31579   9     3.069201\n",
    "        38156   9     2.781328\n",
    "        34569   9     2.739458\n",
    "        ...\n",
    "        39888   0     -0.369274\n",
    "        \n",
    "        376 rows '''\n",
    "    return formPeriodRet"
   ]
  },
  {
   "cell_type": "markdown",
   "metadata": {},
   "source": [
    "#### 4.3 Période d'estimation de rendement des Portefeuilles"
   ]
  },
  {
   "cell_type": "code",
   "execution_count": 37,
   "metadata": {},
   "outputs": [],
   "source": [
    "def HoldPeriod(formPerBounds):\n",
    "\n",
    "#appliquer la méthode groupby pour obtenir les rendements cumulés par indice dans la période\n",
    "    holdPeriodData = CRSP[CRSP['semester'].between(formPerBounds[1] + 1, formPerBounds[1] + 1, inclusive=True)]\n",
    "    by_PERMNO2 = holdPeriodData.groupby('PERMNO')\n",
    "    PFhold = pd.DataFrame(by_PERMNO2[['RET']].sum())\n",
    "    \n",
    "#renommer colonne RET a RET_hold, puis reset_index avant le merge dans 4.4    \n",
    "    PFhold.columns = ['RET_hold']\n",
    "    PFhold.sort_values(by = 'RET_hold', ascending=True, inplace = True)\n",
    "    PFhold.reset_index(inplace=True) \n",
    "    holdPeriodRet = PFhold\n",
    "\n",
    "    '''holdPeriodRet()\n",
    "             RET_hold\n",
    "    PERMNO\n",
    "    32352   2.932340\n",
    "    29532   1.834482\n",
    "    33136   1.610104\n",
    "    ...\t...\n",
    "    37217   -0.540022\n",
    "    40811   -0.544258\n",
    "    27297   -0.564991\n",
    "\n",
    "    :1848 rows '''\n",
    "    return holdPeriodRet"
   ]
  },
  {
   "cell_type": "markdown",
   "metadata": {},
   "source": [
    "#### Décaler de 6 mois (1 semestre), faire des tests sur la période entière de 50 semestres \n"
   ]
  },
  {
   "cell_type": "code",
   "execution_count": 38,
   "metadata": {},
   "outputs": [
    {
     "data": {
      "text/plain": [
       "48"
      ]
     },
     "execution_count": 38,
     "metadata": {},
     "output_type": "execute_result"
    }
   ],
   "source": [
    "nTests = CRSP['semester'].max()  - (formPerL + estPerL) + 1\n",
    "nTests"
   ]
  },
  {
   "cell_type": "markdown",
   "metadata": {},
   "source": [
    "### 4.4 Itération"
   ]
  },
  {
   "cell_type": "code",
   "execution_count": 39,
   "metadata": {},
   "outputs": [
    {
     "name": "stdout",
     "output_type": "stream",
     "text": [
      "\n",
      " ****** Iteration: 2/48 ******\n",
      "\n",
      "formation period: (2, 3)\n",
      "estimation period: 4\n",
      "[0.17188154720548263, 0.02151049456521742]\n",
      "\n",
      " ****** Iteration: 3/48 ******\n",
      "\n",
      "formation period: (3, 4)\n",
      "estimation period: 5\n",
      "[0.17188154720548263, 0.02151049456521742, 0.10115930781954846]\n",
      "\n",
      " ****** Iteration: 4/48 ******\n",
      "\n",
      "formation period: (4, 5)\n",
      "estimation period: 6\n",
      "[0.17188154720548263, 0.02151049456521742, 0.10115930781954846, 0.12013144827059874]\n",
      "\n",
      " ****** Iteration: 5/48 ******\n",
      "\n",
      "formation period: (5, 6)\n",
      "estimation period: 7\n",
      "[0.17188154720548263, 0.02151049456521742, 0.10115930781954846, 0.12013144827059874, 0.1527784474768855]\n",
      "\n",
      " ****** Iteration: 6/48 ******\n",
      "\n",
      "formation period: (6, 7)\n",
      "estimation period: 8\n",
      "[0.17188154720548263, 0.02151049456521742, 0.10115930781954846, 0.12013144827059874, 0.1527784474768855, 0.15659761821283588]\n",
      "\n",
      " ****** Iteration: 7/48 ******\n",
      "\n",
      "formation period: (7, 8)\n",
      "estimation period: 9\n",
      "[0.17188154720548263, 0.02151049456521742, 0.10115930781954846, 0.12013144827059874, 0.1527784474768855, 0.15659761821283588, 0.10867358910325764]\n",
      "\n",
      " ****** Iteration: 8/48 ******\n",
      "\n",
      "formation period: (8, 9)\n",
      "estimation period: 10\n",
      "[0.17188154720548263, 0.02151049456521742, 0.10115930781954846, 0.12013144827059874, 0.1527784474768855, 0.15659761821283588, 0.10867358910325764, 0.04693927000000005]\n",
      "\n",
      " ****** Iteration: 9/48 ******\n",
      "\n",
      "formation period: (9, 10)\n",
      "estimation period: 11\n",
      "[0.17188154720548263, 0.02151049456521742, 0.10115930781954846, 0.12013144827059874, 0.1527784474768855, 0.15659761821283588, 0.10867358910325764, 0.04693927000000005, 0.0968314239813417]\n",
      "\n",
      " ****** Iteration: 10/48 ******\n",
      "\n",
      "formation period: (10, 11)\n",
      "estimation period: 12\n",
      "[0.17188154720548263, 0.02151049456521742, 0.10115930781954846, 0.12013144827059874, 0.1527784474768855, 0.15659761821283588, 0.10867358910325764, 0.04693927000000005, 0.0968314239813417, 0.11162654831552521]\n",
      "\n",
      " ****** Iteration: 11/48 ******\n",
      "\n",
      "formation period: (11, 12)\n",
      "estimation period: 13\n",
      "[0.17188154720548263, 0.02151049456521742, 0.10115930781954846, 0.12013144827059874, 0.1527784474768855, 0.15659761821283588, 0.10867358910325764, 0.04693927000000005, 0.0968314239813417, 0.11162654831552521, 0.07019972249546302]\n",
      "\n",
      " ****** Iteration: 12/48 ******\n",
      "\n",
      "formation period: (12, 13)\n",
      "estimation period: 14\n",
      "[0.17188154720548263, 0.02151049456521742, 0.10115930781954846, 0.12013144827059874, 0.1527784474768855, 0.15659761821283588, 0.10867358910325764, 0.04693927000000005, 0.0968314239813417, 0.11162654831552521, 0.07019972249546302, 0.06551221390159317]\n",
      "\n",
      " ****** Iteration: 13/48 ******\n",
      "\n",
      "formation period: (13, 14)\n",
      "estimation period: 15\n",
      "[0.17188154720548263, 0.02151049456521742, 0.10115930781954846, 0.12013144827059874, 0.1527784474768855, 0.15659761821283588, 0.10867358910325764, 0.04693927000000005, 0.0968314239813417, 0.11162654831552521, 0.07019972249546302, 0.06551221390159317, 0.029861662107876386]\n",
      "\n",
      " ****** Iteration: 14/48 ******\n",
      "\n",
      "formation period: (14, 15)\n",
      "estimation period: 16\n",
      "[0.17188154720548263, 0.02151049456521742, 0.10115930781954846, 0.12013144827059874, 0.1527784474768855, 0.15659761821283588, 0.10867358910325764, 0.04693927000000005, 0.0968314239813417, 0.11162654831552521, 0.07019972249546302, 0.06551221390159317, 0.029861662107876386, 0.037485971360895765]\n",
      "\n",
      " ****** Iteration: 15/48 ******\n",
      "\n",
      "formation period: (15, 16)\n",
      "estimation period: 17\n",
      "[0.17188154720548263, 0.02151049456521742, 0.10115930781954846, 0.12013144827059874, 0.1527784474768855, 0.15659761821283588, 0.10867358910325764, 0.04693927000000005, 0.0968314239813417, 0.11162654831552521, 0.07019972249546302, 0.06551221390159317, 0.029861662107876386, 0.037485971360895765, 0.12526228244930454]\n",
      "\n",
      " ****** Iteration: 16/48 ******\n",
      "\n",
      "formation period: (16, 17)\n",
      "estimation period: 18\n",
      "[0.17188154720548263, 0.02151049456521742, 0.10115930781954846, 0.12013144827059874, 0.1527784474768855, 0.15659761821283588, 0.10867358910325764, 0.04693927000000005, 0.0968314239813417, 0.11162654831552521, 0.07019972249546302, 0.06551221390159317, 0.029861662107876386, 0.037485971360895765, 0.12526228244930454, 0.20094649702850967]\n",
      "\n",
      " ****** Iteration: 17/48 ******\n",
      "\n",
      "formation period: (17, 18)\n",
      "estimation period: 19\n",
      "[0.17188154720548263, 0.02151049456521742, 0.10115930781954846, 0.12013144827059874, 0.1527784474768855, 0.15659761821283588, 0.10867358910325764, 0.04693927000000005, 0.0968314239813417, 0.11162654831552521, 0.07019972249546302, 0.06551221390159317, 0.029861662107876386, 0.037485971360895765, 0.12526228244930454, 0.20094649702850967, 0.2532310145932605]\n",
      "\n",
      " ****** Iteration: 18/48 ******\n",
      "\n",
      "formation period: (18, 19)\n",
      "estimation period: 20\n",
      "[0.17188154720548263, 0.02151049456521742, 0.10115930781954846, 0.12013144827059874, 0.1527784474768855, 0.15659761821283588, 0.10867358910325764, 0.04693927000000005, 0.0968314239813417, 0.11162654831552521, 0.07019972249546302, 0.06551221390159317, 0.029861662107876386, 0.037485971360895765, 0.12526228244930454, 0.20094649702850967, 0.2532310145932605, 0.3481313992346936]\n",
      "\n",
      " ****** Iteration: 19/48 ******\n",
      "\n",
      "formation period: (19, 20)\n",
      "estimation period: 21\n",
      "[0.17188154720548263, 0.02151049456521742, 0.10115930781954846, 0.12013144827059874, 0.1527784474768855, 0.15659761821283588, 0.10867358910325764, 0.04693927000000005, 0.0968314239813417, 0.11162654831552521, 0.07019972249546302, 0.06551221390159317, 0.029861662107876386, 0.037485971360895765, 0.12526228244930454, 0.20094649702850967, 0.2532310145932605, 0.3481313992346936, 0.4122838401149533]\n",
      "\n",
      " ****** Iteration: 20/48 ******\n",
      "\n",
      "formation period: (20, 21)\n",
      "estimation period: 22\n",
      "[0.17188154720548263, 0.02151049456521742, 0.10115930781954846, 0.12013144827059874, 0.1527784474768855, 0.15659761821283588, 0.10867358910325764, 0.04693927000000005, 0.0968314239813417, 0.11162654831552521, 0.07019972249546302, 0.06551221390159317, 0.029861662107876386, 0.037485971360895765, 0.12526228244930454, 0.20094649702850967, 0.2532310145932605, 0.3481313992346936, 0.4122838401149533, 0.0008567845021467679]\n",
      "\n",
      " ****** Iteration: 21/48 ******\n",
      "\n",
      "formation period: (21, 22)\n",
      "estimation period: 23\n",
      "[0.17188154720548263, 0.02151049456521742, 0.10115930781954846, 0.12013144827059874, 0.1527784474768855, 0.15659761821283588, 0.10867358910325764, 0.04693927000000005, 0.0968314239813417, 0.11162654831552521, 0.07019972249546302, 0.06551221390159317, 0.029861662107876386, 0.037485971360895765, 0.12526228244930454, 0.20094649702850967, 0.2532310145932605, 0.3481313992346936, 0.4122838401149533, 0.0008567845021467679, 0.021558441161121877]\n",
      "\n",
      " ****** Iteration: 22/48 ******\n",
      "\n",
      "formation period: (22, 23)\n",
      "estimation period: 24\n",
      "[0.17188154720548263, 0.02151049456521742, 0.10115930781954846, 0.12013144827059874, 0.1527784474768855, 0.15659761821283588, 0.10867358910325764, 0.04693927000000005, 0.0968314239813417, 0.11162654831552521, 0.07019972249546302, 0.06551221390159317, 0.029861662107876386, 0.037485971360895765, 0.12526228244930454, 0.20094649702850967, 0.2532310145932605, 0.3481313992346936, 0.4122838401149533, 0.0008567845021467679, 0.021558441161121877, 0.010899214853938466]\n",
      "\n",
      " ****** Iteration: 23/48 ******\n",
      "\n",
      "formation period: (23, 24)\n",
      "estimation period: 25\n",
      "[0.17188154720548263, 0.02151049456521742, 0.10115930781954846, 0.12013144827059874, 0.1527784474768855, 0.15659761821283588, 0.10867358910325764, 0.04693927000000005, 0.0968314239813417, 0.11162654831552521, 0.07019972249546302, 0.06551221390159317, 0.029861662107876386, 0.037485971360895765, 0.12526228244930454, 0.20094649702850967, 0.2532310145932605, 0.3481313992346936, 0.4122838401149533, 0.0008567845021467679, 0.021558441161121877, 0.010899214853938466, 0.16799990630027395]\n",
      "\n",
      " ****** Iteration: 24/48 ******\n",
      "\n",
      "formation period: (24, 25)\n",
      "estimation period: 26\n",
      "[0.17188154720548263, 0.02151049456521742, 0.10115930781954846, 0.12013144827059874, 0.1527784474768855, 0.15659761821283588, 0.10867358910325764, 0.04693927000000005, 0.0968314239813417, 0.11162654831552521, 0.07019972249546302, 0.06551221390159317, 0.029861662107876386, 0.037485971360895765, 0.12526228244930454, 0.20094649702850967, 0.2532310145932605, 0.3481313992346936, 0.4122838401149533, 0.0008567845021467679, 0.021558441161121877, 0.010899214853938466, 0.16799990630027395, 0.04226946543778801]\n",
      "\n",
      " ****** Iteration: 25/48 ******\n",
      "\n",
      "formation period: (25, 26)\n",
      "estimation period: 27\n",
      "[0.17188154720548263, 0.02151049456521742, 0.10115930781954846, 0.12013144827059874, 0.1527784474768855, 0.15659761821283588, 0.10867358910325764, 0.04693927000000005, 0.0968314239813417, 0.11162654831552521, 0.07019972249546302, 0.06551221390159317, 0.029861662107876386, 0.037485971360895765, 0.12526228244930454, 0.20094649702850967, 0.2532310145932605, 0.3481313992346936, 0.4122838401149533, 0.0008567845021467679, 0.021558441161121877, 0.010899214853938466, 0.16799990630027395, 0.04226946543778801, 0.061264791577749445]\n",
      "\n",
      " ****** Iteration: 26/48 ******\n",
      "\n",
      "formation period: (26, 27)\n",
      "estimation period: 28\n",
      "[0.17188154720548263, 0.02151049456521742, 0.10115930781954846, 0.12013144827059874, 0.1527784474768855, 0.15659761821283588, 0.10867358910325764, 0.04693927000000005, 0.0968314239813417, 0.11162654831552521, 0.07019972249546302, 0.06551221390159317, 0.029861662107876386, 0.037485971360895765, 0.12526228244930454, 0.20094649702850967, 0.2532310145932605, 0.3481313992346936, 0.4122838401149533, 0.0008567845021467679, 0.021558441161121877, 0.010899214853938466, 0.16799990630027395, 0.04226946543778801, 0.061264791577749445, 0.07694404040404042]\n",
      "\n",
      " ****** Iteration: 27/48 ******\n",
      "\n",
      "formation period: (27, 28)\n",
      "estimation period: 29\n",
      "[0.17188154720548263, 0.02151049456521742, 0.10115930781954846, 0.12013144827059874, 0.1527784474768855, 0.15659761821283588, 0.10867358910325764, 0.04693927000000005, 0.0968314239813417, 0.11162654831552521, 0.07019972249546302, 0.06551221390159317, 0.029861662107876386, 0.037485971360895765, 0.12526228244930454, 0.20094649702850967, 0.2532310145932605, 0.3481313992346936, 0.4122838401149533, 0.0008567845021467679, 0.021558441161121877, 0.010899214853938466, 0.16799990630027395, 0.04226946543778801, 0.061264791577749445, 0.07694404040404042, 0.050052107813569335]\n",
      "\n",
      " ****** Iteration: 28/48 ******\n",
      "\n",
      "formation period: (28, 29)\n"
     ]
    },
    {
     "name": "stdout",
     "output_type": "stream",
     "text": [
      "estimation period: 30\n",
      "[0.17188154720548263, 0.02151049456521742, 0.10115930781954846, 0.12013144827059874, 0.1527784474768855, 0.15659761821283588, 0.10867358910325764, 0.04693927000000005, 0.0968314239813417, 0.11162654831552521, 0.07019972249546302, 0.06551221390159317, 0.029861662107876386, 0.037485971360895765, 0.12526228244930454, 0.20094649702850967, 0.2532310145932605, 0.3481313992346936, 0.4122838401149533, 0.0008567845021467679, 0.021558441161121877, 0.010899214853938466, 0.16799990630027395, 0.04226946543778801, 0.061264791577749445, 0.07694404040404042, 0.050052107813569335, 0.12271268857888395]\n",
      "\n",
      " ****** Iteration: 29/48 ******\n",
      "\n",
      "formation period: (29, 30)\n",
      "estimation period: 31\n",
      "[0.17188154720548263, 0.02151049456521742, 0.10115930781954846, 0.12013144827059874, 0.1527784474768855, 0.15659761821283588, 0.10867358910325764, 0.04693927000000005, 0.0968314239813417, 0.11162654831552521, 0.07019972249546302, 0.06551221390159317, 0.029861662107876386, 0.037485971360895765, 0.12526228244930454, 0.20094649702850967, 0.2532310145932605, 0.3481313992346936, 0.4122838401149533, 0.0008567845021467679, 0.021558441161121877, 0.010899214853938466, 0.16799990630027395, 0.04226946543778801, 0.061264791577749445, 0.07694404040404042, 0.050052107813569335, 0.12271268857888395, 0.11983892316784875]\n",
      "\n",
      " ****** Iteration: 30/48 ******\n",
      "\n",
      "formation period: (30, 31)\n",
      "estimation period: 32\n",
      "[0.17188154720548263, 0.02151049456521742, 0.10115930781954846, 0.12013144827059874, 0.1527784474768855, 0.15659761821283588, 0.10867358910325764, 0.04693927000000005, 0.0968314239813417, 0.11162654831552521, 0.07019972249546302, 0.06551221390159317, 0.029861662107876386, 0.037485971360895765, 0.12526228244930454, 0.20094649702850967, 0.2532310145932605, 0.3481313992346936, 0.4122838401149533, 0.0008567845021467679, 0.021558441161121877, 0.010899214853938466, 0.16799990630027395, 0.04226946543778801, 0.061264791577749445, 0.07694404040404042, 0.050052107813569335, 0.12271268857888395, 0.11983892316784875, 0.18631863086084696]\n",
      "\n",
      " ****** Iteration: 31/48 ******\n",
      "\n",
      "formation period: (31, 32)\n",
      "estimation period: 33\n",
      "[0.17188154720548263, 0.02151049456521742, 0.10115930781954846, 0.12013144827059874, 0.1527784474768855, 0.15659761821283588, 0.10867358910325764, 0.04693927000000005, 0.0968314239813417, 0.11162654831552521, 0.07019972249546302, 0.06551221390159317, 0.029861662107876386, 0.037485971360895765, 0.12526228244930454, 0.20094649702850967, 0.2532310145932605, 0.3481313992346936, 0.4122838401149533, 0.0008567845021467679, 0.021558441161121877, 0.010899214853938466, 0.16799990630027395, 0.04226946543778801, 0.061264791577749445, 0.07694404040404042, 0.050052107813569335, 0.12271268857888395, 0.11983892316784875, 0.18631863086084696, 0.18567255957334855]\n",
      "\n",
      " ****** Iteration: 32/48 ******\n",
      "\n",
      "formation period: (32, 33)\n",
      "estimation period: 34\n",
      "[0.17188154720548263, 0.02151049456521742, 0.10115930781954846, 0.12013144827059874, 0.1527784474768855, 0.15659761821283588, 0.10867358910325764, 0.04693927000000005, 0.0968314239813417, 0.11162654831552521, 0.07019972249546302, 0.06551221390159317, 0.029861662107876386, 0.037485971360895765, 0.12526228244930454, 0.20094649702850967, 0.2532310145932605, 0.3481313992346936, 0.4122838401149533, 0.0008567845021467679, 0.021558441161121877, 0.010899214853938466, 0.16799990630027395, 0.04226946543778801, 0.061264791577749445, 0.07694404040404042, 0.050052107813569335, 0.12271268857888395, 0.11983892316784875, 0.18631863086084696, 0.18567255957334855, 0.01849324496880539]\n",
      "\n",
      " ****** Iteration: 33/48 ******\n",
      "\n",
      "formation period: (33, 34)\n",
      "estimation period: 35\n",
      "[0.17188154720548263, 0.02151049456521742, 0.10115930781954846, 0.12013144827059874, 0.1527784474768855, 0.15659761821283588, 0.10867358910325764, 0.04693927000000005, 0.0968314239813417, 0.11162654831552521, 0.07019972249546302, 0.06551221390159317, 0.029861662107876386, 0.037485971360895765, 0.12526228244930454, 0.20094649702850967, 0.2532310145932605, 0.3481313992346936, 0.4122838401149533, 0.0008567845021467679, 0.021558441161121877, 0.010899214853938466, 0.16799990630027395, 0.04226946543778801, 0.061264791577749445, 0.07694404040404042, 0.050052107813569335, 0.12271268857888395, 0.11983892316784875, 0.18631863086084696, 0.18567255957334855, 0.01849324496880539, 0.11303849425758823]\n",
      "\n",
      " ****** Iteration: 34/48 ******\n",
      "\n",
      "formation period: (34, 35)\n",
      "estimation period: 36\n",
      "[0.17188154720548263, 0.02151049456521742, 0.10115930781954846, 0.12013144827059874, 0.1527784474768855, 0.15659761821283588, 0.10867358910325764, 0.04693927000000005, 0.0968314239813417, 0.11162654831552521, 0.07019972249546302, 0.06551221390159317, 0.029861662107876386, 0.037485971360895765, 0.12526228244930454, 0.20094649702850967, 0.2532310145932605, 0.3481313992346936, 0.4122838401149533, 0.0008567845021467679, 0.021558441161121877, 0.010899214853938466, 0.16799990630027395, 0.04226946543778801, 0.061264791577749445, 0.07694404040404042, 0.050052107813569335, 0.12271268857888395, 0.11983892316784875, 0.18631863086084696, 0.18567255957334855, 0.01849324496880539, 0.11303849425758823, 0.05309175436305008]\n",
      "\n",
      " ****** Iteration: 35/48 ******\n",
      "\n",
      "formation period: (35, 36)\n",
      "estimation period: 37\n",
      "[0.17188154720548263, 0.02151049456521742, 0.10115930781954846, 0.12013144827059874, 0.1527784474768855, 0.15659761821283588, 0.10867358910325764, 0.04693927000000005, 0.0968314239813417, 0.11162654831552521, 0.07019972249546302, 0.06551221390159317, 0.029861662107876386, 0.037485971360895765, 0.12526228244930454, 0.20094649702850967, 0.2532310145932605, 0.3481313992346936, 0.4122838401149533, 0.0008567845021467679, 0.021558441161121877, 0.010899214853938466, 0.16799990630027395, 0.04226946543778801, 0.061264791577749445, 0.07694404040404042, 0.050052107813569335, 0.12271268857888395, 0.11983892316784875, 0.18631863086084696, 0.18567255957334855, 0.01849324496880539, 0.11303849425758823, 0.05309175436305008, 0.07682683310945276]\n",
      "\n",
      " ****** Iteration: 36/48 ******\n",
      "\n",
      "formation period: (36, 37)\n",
      "estimation period: 38\n",
      "[0.17188154720548263, 0.02151049456521742, 0.10115930781954846, 0.12013144827059874, 0.1527784474768855, 0.15659761821283588, 0.10867358910325764, 0.04693927000000005, 0.0968314239813417, 0.11162654831552521, 0.07019972249546302, 0.06551221390159317, 0.029861662107876386, 0.037485971360895765, 0.12526228244930454, 0.20094649702850967, 0.2532310145932605, 0.3481313992346936, 0.4122838401149533, 0.0008567845021467679, 0.021558441161121877, 0.010899214853938466, 0.16799990630027395, 0.04226946543778801, 0.061264791577749445, 0.07694404040404042, 0.050052107813569335, 0.12271268857888395, 0.11983892316784875, 0.18631863086084696, 0.18567255957334855, 0.01849324496880539, 0.11303849425758823, 0.05309175436305008, 0.07682683310945276, 0.009821615948646334]\n",
      "\n",
      " ****** Iteration: 37/48 ******\n",
      "\n",
      "formation period: (37, 38)\n",
      "estimation period: 39\n",
      "[0.17188154720548263, 0.02151049456521742, 0.10115930781954846, 0.12013144827059874, 0.1527784474768855, 0.15659761821283588, 0.10867358910325764, 0.04693927000000005, 0.0968314239813417, 0.11162654831552521, 0.07019972249546302, 0.06551221390159317, 0.029861662107876386, 0.037485971360895765, 0.12526228244930454, 0.20094649702850967, 0.2532310145932605, 0.3481313992346936, 0.4122838401149533, 0.0008567845021467679, 0.021558441161121877, 0.010899214853938466, 0.16799990630027395, 0.04226946543778801, 0.061264791577749445, 0.07694404040404042, 0.050052107813569335, 0.12271268857888395, 0.11983892316784875, 0.18631863086084696, 0.18567255957334855, 0.01849324496880539, 0.11303849425758823, 0.05309175436305008, 0.07682683310945276, 0.009821615948646334, 0.002400930447433558]\n",
      "\n",
      " ****** Iteration: 38/48 ******\n",
      "\n",
      "formation period: (38, 39)\n",
      "estimation period: 40\n",
      "[0.17188154720548263, 0.02151049456521742, 0.10115930781954846, 0.12013144827059874, 0.1527784474768855, 0.15659761821283588, 0.10867358910325764, 0.04693927000000005, 0.0968314239813417, 0.11162654831552521, 0.07019972249546302, 0.06551221390159317, 0.029861662107876386, 0.037485971360895765, 0.12526228244930454, 0.20094649702850967, 0.2532310145932605, 0.3481313992346936, 0.4122838401149533, 0.0008567845021467679, 0.021558441161121877, 0.010899214853938466, 0.16799990630027395, 0.04226946543778801, 0.061264791577749445, 0.07694404040404042, 0.050052107813569335, 0.12271268857888395, 0.11983892316784875, 0.18631863086084696, 0.18567255957334855, 0.01849324496880539, 0.11303849425758823, 0.05309175436305008, 0.07682683310945276, 0.009821615948646334, 0.002400930447433558, 0.2002759977998696]\n",
      "\n",
      " ****** Iteration: 39/48 ******\n",
      "\n",
      "formation period: (39, 40)\n",
      "estimation period: 41\n",
      "[0.17188154720548263, 0.02151049456521742, 0.10115930781954846, 0.12013144827059874, 0.1527784474768855, 0.15659761821283588, 0.10867358910325764, 0.04693927000000005, 0.0968314239813417, 0.11162654831552521, 0.07019972249546302, 0.06551221390159317, 0.029861662107876386, 0.037485971360895765, 0.12526228244930454, 0.20094649702850967, 0.2532310145932605, 0.3481313992346936, 0.4122838401149533, 0.0008567845021467679, 0.021558441161121877, 0.010899214853938466, 0.16799990630027395, 0.04226946543778801, 0.061264791577749445, 0.07694404040404042, 0.050052107813569335, 0.12271268857888395, 0.11983892316784875, 0.18631863086084696, 0.18567255957334855, 0.01849324496880539, 0.11303849425758823, 0.05309175436305008, 0.07682683310945276, 0.009821615948646334, 0.002400930447433558, 0.2002759977998696, 0.048983313738459294]\n",
      "\n",
      " ****** Iteration: 40/48 ******\n",
      "\n",
      "formation period: (40, 41)\n",
      "estimation period: 42\n",
      "[0.17188154720548263, 0.02151049456521742, 0.10115930781954846, 0.12013144827059874, 0.1527784474768855, 0.15659761821283588, 0.10867358910325764, 0.04693927000000005, 0.0968314239813417, 0.11162654831552521, 0.07019972249546302, 0.06551221390159317, 0.029861662107876386, 0.037485971360895765, 0.12526228244930454, 0.20094649702850967, 0.2532310145932605, 0.3481313992346936, 0.4122838401149533, 0.0008567845021467679, 0.021558441161121877, 0.010899214853938466, 0.16799990630027395, 0.04226946543778801, 0.061264791577749445, 0.07694404040404042, 0.050052107813569335, 0.12271268857888395, 0.11983892316784875, 0.18631863086084696, 0.18567255957334855, 0.01849324496880539, 0.11303849425758823, 0.05309175436305008, 0.07682683310945276, 0.009821615948646334, 0.002400930447433558, 0.2002759977998696, 0.048983313738459294, 0.19325066779493327]\n",
      "\n",
      " ****** Iteration: 41/48 ******\n",
      "\n",
      "formation period: (41, 42)\n",
      "estimation period: 43\n"
     ]
    },
    {
     "name": "stdout",
     "output_type": "stream",
     "text": [
      "[0.17188154720548263, 0.02151049456521742, 0.10115930781954846, 0.12013144827059874, 0.1527784474768855, 0.15659761821283588, 0.10867358910325764, 0.04693927000000005, 0.0968314239813417, 0.11162654831552521, 0.07019972249546302, 0.06551221390159317, 0.029861662107876386, 0.037485971360895765, 0.12526228244930454, 0.20094649702850967, 0.2532310145932605, 0.3481313992346936, 0.4122838401149533, 0.0008567845021467679, 0.021558441161121877, 0.010899214853938466, 0.16799990630027395, 0.04226946543778801, 0.061264791577749445, 0.07694404040404042, 0.050052107813569335, 0.12271268857888395, 0.11983892316784875, 0.18631863086084696, 0.18567255957334855, 0.01849324496880539, 0.11303849425758823, 0.05309175436305008, 0.07682683310945276, 0.009821615948646334, 0.002400930447433558, 0.2002759977998696, 0.048983313738459294, 0.19325066779493327, 0.22549713226010099]\n",
      "\n",
      " ****** Iteration: 42/48 ******\n",
      "\n",
      "formation period: (42, 43)\n",
      "estimation period: 44\n",
      "[0.17188154720548263, 0.02151049456521742, 0.10115930781954846, 0.12013144827059874, 0.1527784474768855, 0.15659761821283588, 0.10867358910325764, 0.04693927000000005, 0.0968314239813417, 0.11162654831552521, 0.07019972249546302, 0.06551221390159317, 0.029861662107876386, 0.037485971360895765, 0.12526228244930454, 0.20094649702850967, 0.2532310145932605, 0.3481313992346936, 0.4122838401149533, 0.0008567845021467679, 0.021558441161121877, 0.010899214853938466, 0.16799990630027395, 0.04226946543778801, 0.061264791577749445, 0.07694404040404042, 0.050052107813569335, 0.12271268857888395, 0.11983892316784875, 0.18631863086084696, 0.18567255957334855, 0.01849324496880539, 0.11303849425758823, 0.05309175436305008, 0.07682683310945276, 0.009821615948646334, 0.002400930447433558, 0.2002759977998696, 0.048983313738459294, 0.19325066779493327, 0.22549713226010099, 0.009024355833333303]\n",
      "\n",
      " ****** Iteration: 43/48 ******\n",
      "\n",
      "formation period: (43, 44)\n",
      "estimation period: 45\n",
      "[0.17188154720548263, 0.02151049456521742, 0.10115930781954846, 0.12013144827059874, 0.1527784474768855, 0.15659761821283588, 0.10867358910325764, 0.04693927000000005, 0.0968314239813417, 0.11162654831552521, 0.07019972249546302, 0.06551221390159317, 0.029861662107876386, 0.037485971360895765, 0.12526228244930454, 0.20094649702850967, 0.2532310145932605, 0.3481313992346936, 0.4122838401149533, 0.0008567845021467679, 0.021558441161121877, 0.010899214853938466, 0.16799990630027395, 0.04226946543778801, 0.061264791577749445, 0.07694404040404042, 0.050052107813569335, 0.12271268857888395, 0.11983892316784875, 0.18631863086084696, 0.18567255957334855, 0.01849324496880539, 0.11303849425758823, 0.05309175436305008, 0.07682683310945276, 0.009821615948646334, 0.002400930447433558, 0.2002759977998696, 0.048983313738459294, 0.19325066779493327, 0.22549713226010099, 0.009024355833333303, 0.029143134313725505]\n",
      "\n",
      " ****** Iteration: 44/48 ******\n",
      "\n",
      "formation period: (44, 45)\n",
      "estimation period: 46\n",
      "[0.17188154720548263, 0.02151049456521742, 0.10115930781954846, 0.12013144827059874, 0.1527784474768855, 0.15659761821283588, 0.10867358910325764, 0.04693927000000005, 0.0968314239813417, 0.11162654831552521, 0.07019972249546302, 0.06551221390159317, 0.029861662107876386, 0.037485971360895765, 0.12526228244930454, 0.20094649702850967, 0.2532310145932605, 0.3481313992346936, 0.4122838401149533, 0.0008567845021467679, 0.021558441161121877, 0.010899214853938466, 0.16799990630027395, 0.04226946543778801, 0.061264791577749445, 0.07694404040404042, 0.050052107813569335, 0.12271268857888395, 0.11983892316784875, 0.18631863086084696, 0.18567255957334855, 0.01849324496880539, 0.11303849425758823, 0.05309175436305008, 0.07682683310945276, 0.009821615948646334, 0.002400930447433558, 0.2002759977998696, 0.048983313738459294, 0.19325066779493327, 0.22549713226010099, 0.009024355833333303, 0.029143134313725505, 0.22570135946243255]\n",
      "\n",
      " ****** Iteration: 45/48 ******\n",
      "\n",
      "formation period: (45, 46)\n",
      "estimation period: 47\n",
      "[0.17188154720548263, 0.02151049456521742, 0.10115930781954846, 0.12013144827059874, 0.1527784474768855, 0.15659761821283588, 0.10867358910325764, 0.04693927000000005, 0.0968314239813417, 0.11162654831552521, 0.07019972249546302, 0.06551221390159317, 0.029861662107876386, 0.037485971360895765, 0.12526228244930454, 0.20094649702850967, 0.2532310145932605, 0.3481313992346936, 0.4122838401149533, 0.0008567845021467679, 0.021558441161121877, 0.010899214853938466, 0.16799990630027395, 0.04226946543778801, 0.061264791577749445, 0.07694404040404042, 0.050052107813569335, 0.12271268857888395, 0.11983892316784875, 0.18631863086084696, 0.18567255957334855, 0.01849324496880539, 0.11303849425758823, 0.05309175436305008, 0.07682683310945276, 0.009821615948646334, 0.002400930447433558, 0.2002759977998696, 0.048983313738459294, 0.19325066779493327, 0.22549713226010099, 0.009024355833333303, 0.029143134313725505, 0.22570135946243255, 0.10458674297384021]\n",
      "\n",
      " ****** Iteration: 46/48 ******\n",
      "\n",
      "formation period: (46, 47)\n",
      "estimation period: 48\n",
      "[0.17188154720548263, 0.02151049456521742, 0.10115930781954846, 0.12013144827059874, 0.1527784474768855, 0.15659761821283588, 0.10867358910325764, 0.04693927000000005, 0.0968314239813417, 0.11162654831552521, 0.07019972249546302, 0.06551221390159317, 0.029861662107876386, 0.037485971360895765, 0.12526228244930454, 0.20094649702850967, 0.2532310145932605, 0.3481313992346936, 0.4122838401149533, 0.0008567845021467679, 0.021558441161121877, 0.010899214853938466, 0.16799990630027395, 0.04226946543778801, 0.061264791577749445, 0.07694404040404042, 0.050052107813569335, 0.12271268857888395, 0.11983892316784875, 0.18631863086084696, 0.18567255957334855, 0.01849324496880539, 0.11303849425758823, 0.05309175436305008, 0.07682683310945276, 0.009821615948646334, 0.002400930447433558, 0.2002759977998696, 0.048983313738459294, 0.19325066779493327, 0.22549713226010099, 0.009024355833333303, 0.029143134313725505, 0.22570135946243255, 0.10458674297384021, 0.06590523127331382]\n",
      "\n",
      " ****** Iteration: 47/48 ******\n",
      "\n",
      "formation period: (47, 48)\n",
      "estimation period: 49\n",
      "[0.17188154720548263, 0.02151049456521742, 0.10115930781954846, 0.12013144827059874, 0.1527784474768855, 0.15659761821283588, 0.10867358910325764, 0.04693927000000005, 0.0968314239813417, 0.11162654831552521, 0.07019972249546302, 0.06551221390159317, 0.029861662107876386, 0.037485971360895765, 0.12526228244930454, 0.20094649702850967, 0.2532310145932605, 0.3481313992346936, 0.4122838401149533, 0.0008567845021467679, 0.021558441161121877, 0.010899214853938466, 0.16799990630027395, 0.04226946543778801, 0.061264791577749445, 0.07694404040404042, 0.050052107813569335, 0.12271268857888395, 0.11983892316784875, 0.18631863086084696, 0.18567255957334855, 0.01849324496880539, 0.11303849425758823, 0.05309175436305008, 0.07682683310945276, 0.009821615948646334, 0.002400930447433558, 0.2002759977998696, 0.048983313738459294, 0.19325066779493327, 0.22549713226010099, 0.009024355833333303, 0.029143134313725505, 0.22570135946243255, 0.10458674297384021, 0.06590523127331382, 0.012728417843389017]\n",
      "\n",
      " ****** Iteration: 48/48 ******\n",
      "\n",
      "formation period: (48, 49)\n",
      "estimation period: 50\n",
      "[0.17188154720548263, 0.02151049456521742, 0.10115930781954846, 0.12013144827059874, 0.1527784474768855, 0.15659761821283588, 0.10867358910325764, 0.04693927000000005, 0.0968314239813417, 0.11162654831552521, 0.07019972249546302, 0.06551221390159317, 0.029861662107876386, 0.037485971360895765, 0.12526228244930454, 0.20094649702850967, 0.2532310145932605, 0.3481313992346936, 0.4122838401149533, 0.0008567845021467679, 0.021558441161121877, 0.010899214853938466, 0.16799990630027395, 0.04226946543778801, 0.061264791577749445, 0.07694404040404042, 0.050052107813569335, 0.12271268857888395, 0.11983892316784875, 0.18631863086084696, 0.18567255957334855, 0.01849324496880539, 0.11303849425758823, 0.05309175436305008, 0.07682683310945276, 0.009821615948646334, 0.002400930447433558, 0.2002759977998696, 0.048983313738459294, 0.19325066779493327, 0.22549713226010099, 0.009024355833333303, 0.029143134313725505, 0.22570135946243255, 0.10458674297384021, 0.06590523127331382, 0.012728417843389017, 0.22962214866972483]\n"
     ]
    }
   ],
   "source": [
    "#Iteration à partir de la deuxième itération, la première a été calculé préalablement\n",
    "for iter in range(2, nTests + 1):\n",
    "    print(\"\\n ****** Iteration: \" + str(iter) + \"/\" + str(nTests) + \" ******\\n\")\n",
    "\n",
    "# définir la période de formation \n",
    "    formPerBounds = (iter, iter + formPerL - 1)\n",
    "    print(\"formation period: \" + str(formPerBounds)) # tuple iterates period (1,2) (3)\n",
    "    formPeriodRet = formPeriod(formPerBounds)\n",
    "\n",
    "# définir la période \"holding\" \n",
    "    print(\"estimation period: \" + str(formPerBounds[1] + 1))## tuple period (2,4) not inclusive so =(3)\n",
    "    holdPeriodRet = HoldPeriod(formPerBounds)\n",
    "    \n",
    "#Merge les indices avec les numéros de portefeuilles construit dans la période de formation\n",
    "    PF_formatest = pd.merge(formPeriodRet, holdPeriodRet, how=\"left\", on='PERMNO')\n",
    "    \n",
    "#Calculer le taux de rentabilité moyen mensuel de chaque portefeuille dans la période \"Hold\" \n",
    "    Data = PF_formatest.groupby('PF_num')['RET_hold'].mean()\n",
    "    \n",
    "#Calculer le différentiel des rentabilités      \n",
    "    r = np.ptp(Data)\n",
    "    retMom.append(r)\n",
    "    \n",
    "#Retmom inclus la première observation imprimée avant l'itération \n",
    "    print(retMom)"
   ]
  },
  {
   "cell_type": "markdown",
   "metadata": {},
   "source": [
    "#### Transformer retMom en dataframe, puis renommer la colonne à RETStrat, utilisation de describe pour les statistiques descriptives "
   ]
  },
  {
   "cell_type": "code",
   "execution_count": 40,
   "metadata": {},
   "outputs": [
    {
     "data": {
      "text/html": [
       "<div>\n",
       "<style scoped>\n",
       "    .dataframe tbody tr th:only-of-type {\n",
       "        vertical-align: middle;\n",
       "    }\n",
       "\n",
       "    .dataframe tbody tr th {\n",
       "        vertical-align: top;\n",
       "    }\n",
       "\n",
       "    .dataframe thead th {\n",
       "        text-align: right;\n",
       "    }\n",
       "</style>\n",
       "<table border=\"1\" class=\"dataframe\">\n",
       "  <thead>\n",
       "    <tr style=\"text-align: right;\">\n",
       "      <th></th>\n",
       "      <th>RETStrat</th>\n",
       "    </tr>\n",
       "  </thead>\n",
       "  <tbody>\n",
       "    <tr>\n",
       "      <th>count</th>\n",
       "      <td>48.000000</td>\n",
       "    </tr>\n",
       "    <tr>\n",
       "      <th>mean</th>\n",
       "      <td>0.110330</td>\n",
       "    </tr>\n",
       "    <tr>\n",
       "      <th>std</th>\n",
       "      <td>0.091216</td>\n",
       "    </tr>\n",
       "    <tr>\n",
       "      <th>min</th>\n",
       "      <td>0.000857</td>\n",
       "    </tr>\n",
       "    <tr>\n",
       "      <th>25%</th>\n",
       "      <td>0.041074</td>\n",
       "    </tr>\n",
       "    <tr>\n",
       "      <th>50%</th>\n",
       "      <td>0.098995</td>\n",
       "    </tr>\n",
       "    <tr>\n",
       "      <th>75%</th>\n",
       "      <td>0.168970</td>\n",
       "    </tr>\n",
       "    <tr>\n",
       "      <th>max</th>\n",
       "      <td>0.412284</td>\n",
       "    </tr>\n",
       "  </tbody>\n",
       "</table>\n",
       "</div>"
      ],
      "text/plain": [
       "        RETStrat\n",
       "count  48.000000\n",
       "mean    0.110330\n",
       "std     0.091216\n",
       "min     0.000857\n",
       "25%     0.041074\n",
       "50%     0.098995\n",
       "75%     0.168970\n",
       "max     0.412284"
      ]
     },
     "execution_count": 40,
     "metadata": {},
     "output_type": "execute_result"
    }
   ],
   "source": [
    "retMom = pd.DataFrame(retMom)\n",
    "retMom.columns=[\"RETStrat\"]\n",
    "retMom.describe()"
   ]
  },
  {
   "cell_type": "markdown",
   "metadata": {},
   "source": [
    "### Le rendement moyen de la stratégie est de 0,11 avec un écartype de 0,09. Il faut un t-test pour déterminer la significativité de la stratégie momentum "
   ]
  },
  {
   "cell_type": "markdown",
   "metadata": {},
   "source": [
    "#### Le t-test et p-value pour décider si ce rendement est significatif "
   ]
  },
  {
   "cell_type": "code",
   "execution_count": 41,
   "metadata": {},
   "outputs": [
    {
     "name": "stdout",
     "output_type": "stream",
     "text": [
      "T-test: 8.379954186633785\n"
     ]
    }
   ],
   "source": [
    "t_stat=retMom['RETStrat'].mean() * math.sqrt(retMom['RETStrat'].count()) / retMom['RETStrat'].std()\n",
    "print(\"T-test: \" + str(t_stat))"
   ]
  },
  {
   "cell_type": "code",
   "execution_count": 42,
   "metadata": {},
   "outputs": [],
   "source": [
    "#Df\n",
    "df = retMom['RETStrat'].count() - 1\n",
    "#Alpha\n",
    "alpha=0.05\n",
    "#Import student-t distribution\n",
    "from scipy.stats import t"
   ]
  },
  {
   "cell_type": "code",
   "execution_count": 43,
   "metadata": {},
   "outputs": [
    {
     "name": "stdout",
     "output_type": "stream",
     "text": [
      "p-value:  6.942890706795879e-11\n",
      "Reject Null Hypothesis of no significant effect\n"
     ]
    }
   ],
   "source": [
    "#Calculer p-values\n",
    "p_value = (1 - t.cdf(abs(t_stat), df)) * 2\n",
    "if p_value < alpha:\n",
    "    print('p-value:  ' + str(p_value) + '\\nReject Null Hypothesis of no significant effect')\n",
    "else:\n",
    "    print('p-value:  ' + str(p_value) + '\\nKeep Null Hypothesis of no significant effect')"
   ]
  },
  {
   "cell_type": "markdown",
   "metadata": {},
   "source": [
    "#### On conclue donc que la stratégie momentum Buy-sell proposé par Jegadeesh et Titman donne un rendement significatif. "
   ]
  }
 ],
 "metadata": {
  "kernelspec": {
   "display_name": "Python 3",
   "language": "python",
   "name": "python3"
  },
  "language_info": {
   "codemirror_mode": {
    "name": "ipython",
    "version": 3
   },
   "file_extension": ".py",
   "mimetype": "text/x-python",
   "name": "python",
   "nbconvert_exporter": "python",
   "pygments_lexer": "ipython3",
   "version": "3.8.3"
  }
 },
 "nbformat": 4,
 "nbformat_minor": 4
}
