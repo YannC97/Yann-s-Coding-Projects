{
 "cells": [
  {
   "cell_type": "code",
   "execution_count": 1,
   "metadata": {},
   "outputs": [
    {
     "name": "stdout",
     "output_type": "stream",
     "text": [
      "Hello and welcome to Yanns automated secretary script\n"
     ]
    }
   ],
   "source": [
    "print('Hello and welcome to Yanns automated secretary script')\n"
   ]
  },
  {
   "cell_type": "markdown",
   "metadata": {},
   "source": [
    "## Layout and user-guide\n",
    " \n",
    "### 1) Runs a txt file to export to txt file for common email on guest appearance\n",
    "\n",
    "### 2) Also runs and edits word file for schedule setup given inputs. Schedule setup should be done all at once and right before printout\n"
   ]
  },
  {
   "cell_type": "code",
   "execution_count": 2,
   "metadata": {},
   "outputs": [
    {
     "data": {
      "text/plain": [
       "'\\n\\nTrial run for code to fill in schedule\\n\\nfrom docx import document\\ndoc=Document(\"schedule\".docx)\\n\\nPar=document.paragraphs[2]\\n\\nprint(par.text)\\n\\npar.text=\"\"\\ndocument.save(schedule_edited.docx)\\n\\nMust use class probably to edit cells\\n\\n'"
      ]
     },
     "execution_count": 2,
     "metadata": {},
     "output_type": "execute_result"
    }
   ],
   "source": [
    "'''\n",
    "\n",
    "Trial run for code to fill in schedule\n",
    "\n",
    "from docx import document\n",
    "doc=Document(\"schedule\".docx)\n",
    "\n",
    "Par=document.paragraphs[2]\n",
    "\n",
    "print(par.text)\n",
    "\n",
    "par.text=\"\"\n",
    "document.save(schedule_edited.docx)\n",
    "\n",
    "Must use class probably to edit cells\n",
    "\n",
    "'''"
   ]
  },
  {
   "cell_type": "code",
   "execution_count": 3,
   "metadata": {},
   "outputs": [],
   "source": [
    "# Variable list to input as"
   ]
  },
  {
   "cell_type": "code",
   "execution_count": 4,
   "metadata": {
    "scrolled": true
   },
   "outputs": [
    {
     "name": "stdout",
     "output_type": "stream",
     "text": [
      "Please only characters be kind to this simpleton code \n",
      "\n",
      "Enter Visting Researcher's name: Andreass\n",
      "Enter Affiliation: fdsf\n",
      "Enter Date of seminar and arrival: f\n",
      "Enter Location of seminar: f\n",
      "Enter Link to website: f\n",
      "Enter Research Interests: f\n",
      "Enter Paper Title for seminar: f\n",
      "Gender of researcher (Enter Male or Female): Male\n",
      "\n",
      " Researcher is male\n",
      "\n",
      " Inputs done now run rest of code and open file name modified.txt\n"
     ]
    }
   ],
   "source": [
    "print(\"Please only characters be kind to this simpleton code \\n\")\n",
    "val0 = input(\"Enter Visting Researcher's name: \")\n",
    "val1 = input(\"Enter Affiliation: \")\n",
    "val2 = input(\"Enter Date of seminar and arrival: \")\n",
    "val3 = input(\"Enter Location of seminar: \")\n",
    "val4 = input(\"Enter Link to website: \")\n",
    "val5 = input(\"Enter Research Interests: \")\n",
    "val6 = input(\"Enter Paper Title for seminar: \")\n",
    "val7 = input(\"Gender of researcher (Enter Male or Female): \")\n",
    "\n",
    "if val7 == \"Male\" : \n",
    "    g1 = \"his\" \n",
    "    g2 = \"he\" \n",
    "    g3 = \"him\"\n",
    "    print('\\n Researcher is male')\n",
    "else :\n",
    "    g1 = \"her\"\n",
    "    g2 = \"she\"\n",
    "    g3 = \"her\"\n",
    "    print('\\n Researcher is female')\n",
    "\n",
    "print(\"\\n Inputs done now run rest of code and open file name modified.txt\")"
   ]
  },
  {
   "cell_type": "code",
   "execution_count": 5,
   "metadata": {},
   "outputs": [],
   "source": [
    "with open(\"modified.txt\", \"w\") as f:\n",
    "    f.write(\"Dear All, \\n\")\n",
    "    f.write(\" \\n\")\n",
    "    f.write(val0 + \" (\" + val1 + \") \" + \"will visit the bank on \" + val2 + \" \\n\")\n",
    "    f.write(g2 + \" will present the paper \" + \"'\" + val6 + \"' \" + \" \\n\")\n",
    "    f.write(\" \\n\")\n",
    "    f.write(\"When: \" + val2 + \" \\n\")\n",
    "    f.write(\"Where: \" + val3 + \" \\n\")\n",
    "    f.write(\" \\n\")\n",
    "    f.write(\"Link to \" + g1 + \" website: \"+ val4 + \" \\n\")\n",
    "    f.write(\" \\n\")\n",
    "    f.write(val0 + \" is looking forward to meeting us, learning about Norges Bank and our work, and we encourage anyone who is interested to meet with  \" + g3 + \" \\n\")\n",
    "    f.write(\"Please send me a reply if you are interested in a meeting so i can set up a time slot. \\n\")\n",
    "    f.write(\" \\n\")\n",
    "    f.write(\" \\n\")\n",
    "    f.write(\" \\n\")\n",
    "    f.write(\"Yann\")"
   ]
  },
  {
   "cell_type": "code",
   "execution_count": 6,
   "metadata": {},
   "outputs": [
    {
     "name": "stdout",
     "output_type": "stream",
     "text": [
      " \n",
      " End of script, Please check your folder for txt file: modified, to copy to email\n"
     ]
    }
   ],
   "source": [
    "print(\" \\n End of script, Please check your folder for txt file: modified, to copy to email\")"
   ]
  },
  {
   "cell_type": "markdown",
   "metadata": {},
   "source": [
    "#### Created by Yann 09:28"
   ]
  }
 ],
 "metadata": {
  "kernelspec": {
   "display_name": "Python 3 (ipykernel)",
   "language": "python",
   "name": "python3"
  },
  "language_info": {
   "codemirror_mode": {
    "name": "ipython",
    "version": 3
   },
   "file_extension": ".py",
   "mimetype": "text/x-python",
   "name": "python",
   "nbconvert_exporter": "python",
   "pygments_lexer": "ipython3",
   "version": "3.9.12"
  }
 },
 "nbformat": 4,
 "nbformat_minor": 4
}
